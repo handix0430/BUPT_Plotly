{
 "cells": [
  {
   "cell_type": "code",
   "execution_count": 14,
   "metadata": {},
   "outputs": [
    {
     "name": "stdout",
     "output_type": "stream",
     "text": [
      "0      回民食堂东立杆\n",
      "1      回民食堂东立杆\n",
      "2      汇康公寓东南角\n",
      "3      汇康公寓东南角\n",
      "4      汇康公寓东南角\n",
      "        ...   \n",
      "595      西门南侧出\n",
      "596      西门南侧出\n",
      "597      西门南侧出\n",
      "598      西门北侧出\n",
      "599      西门北侧出\n",
      "Name: SNAPCAMNAME, Length: 600, dtype: object\n"
     ]
    }
   ],
   "source": [
    "import pandas as pd\n",
    "import re\n",
    "\n",
    "df = pd.read_excel(\"CUP_SNAP_HISTORYRECORD.xlsx\")\n",
    "pattern = re.compile(r'人脸-?\\d+|-?\\d+')\n",
    "df[\"SNAPCAMNAME\"] = df[\"SNAPCAMNAME\"].apply(lambda x: re.sub(pattern, '', x))\n",
    "print(df[\"SNAPCAMNAME\"])"
   ]
  }
 ],
 "metadata": {
  "kernelspec": {
   "display_name": "PlotlyV2.0",
   "language": "python",
   "name": "plotlyv2.0"
  },
  "language_info": {
   "codemirror_mode": {
    "name": "ipython",
    "version": 3
   },
   "file_extension": ".py",
   "mimetype": "text/x-python",
   "name": "python",
   "nbconvert_exporter": "python",
   "pygments_lexer": "ipython3",
   "version": "3.10.8"
  },
  "orig_nbformat": 4
 },
 "nbformat": 4,
 "nbformat_minor": 2
}
