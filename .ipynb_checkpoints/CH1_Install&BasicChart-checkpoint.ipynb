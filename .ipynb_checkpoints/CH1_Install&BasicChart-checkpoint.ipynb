{
 "cells": [
  {
   "cell_type": "markdown",
   "id": "6f09669e",
   "metadata": {},
   "source": [
    "# Install"
   ]
  }
 ],
 "metadata": {
  "kernelspec": {
   "display_name": "PlotlyV2.0",
   "language": "python",
   "name": "plotlyv2.0"
  },
  "language_info": {
   "codemirror_mode": {
    "name": "ipython",
    "version": 3
   },
   "file_extension": ".py",
   "mimetype": "text/x-python",
   "name": "python",
   "nbconvert_exporter": "python",
   "pygments_lexer": "ipython3",
   "version": "3.10.8"
  }
 },
 "nbformat": 4,
 "nbformat_minor": 5
}
