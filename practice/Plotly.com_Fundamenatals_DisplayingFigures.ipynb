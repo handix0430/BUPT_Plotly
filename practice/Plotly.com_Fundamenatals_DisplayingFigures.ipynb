{
 "cells": [
  {
   "cell_type": "markdown",
   "metadata": {},
   "source": [
    "https://plotly.com/python/renderers/"
   ]
  },
  {
   "attachments": {},
   "cell_type": "markdown",
   "metadata": {},
   "source": [
    "# 显示图的方式\n",
    "1. renderers\n",
    "2. Dash\n",
    "3. ipywidget的FigureWidget\n",
    "4. HTML\n",
    "5. Kaleido~静态"
   ]
  },
  {
   "cell_type": "code",
   "execution_count": 2,
   "metadata": {},
   "outputs": [],
   "source": [
    "import plotly.graph_objects as go\n",
    "import plotly.io as pio\n",
    "import plotly.express as px"
   ]
  },
  {
   "attachments": {},
   "cell_type": "markdown",
   "metadata": {},
   "source": [
    "# 1.Renderers fig.show()\n",
    "老版的plotly.io"
   ]
  },
  {
   "cell_type": "code",
   "execution_count": 3,
   "metadata": {},
   "outputs": [
    {
     "data": {
      "application/vnd.plotly.v1+json": {
       "config": {
        "plotlyServerURL": "https://plotly.com"
       },
       "data": [
        {
         "type": "bar",
         "y": [
          2,
          1,
          3
         ]
        }
       ],
       "layout": {
        "template": {
         "data": {
          "bar": [
           {
            "error_x": {
             "color": "#2a3f5f"
            },
            "error_y": {
             "color": "#2a3f5f"
            },
            "marker": {
             "line": {
              "color": "#E5ECF6",
              "width": 0.5
             },
             "pattern": {
              "fillmode": "overlay",
              "size": 10,
              "solidity": 0.2
             }
            },
            "type": "bar"
           }
          ],
          "barpolar": [
           {
            "marker": {
             "line": {
              "color": "#E5ECF6",
              "width": 0.5
             },
             "pattern": {
              "fillmode": "overlay",
              "size": 10,
              "solidity": 0.2
             }
            },
            "type": "barpolar"
           }
          ],
          "carpet": [
           {
            "aaxis": {
             "endlinecolor": "#2a3f5f",
             "gridcolor": "white",
             "linecolor": "white",
             "minorgridcolor": "white",
             "startlinecolor": "#2a3f5f"
            },
            "baxis": {
             "endlinecolor": "#2a3f5f",
             "gridcolor": "white",
             "linecolor": "white",
             "minorgridcolor": "white",
             "startlinecolor": "#2a3f5f"
            },
            "type": "carpet"
           }
          ],
          "choropleth": [
           {
            "colorbar": {
             "outlinewidth": 0,
             "ticks": ""
            },
            "type": "choropleth"
           }
          ],
          "contour": [
           {
            "colorbar": {
             "outlinewidth": 0,
             "ticks": ""
            },
            "colorscale": [
             [
              0,
              "#0d0887"
             ],
             [
              0.1111111111111111,
              "#46039f"
             ],
             [
              0.2222222222222222,
              "#7201a8"
             ],
             [
              0.3333333333333333,
              "#9c179e"
             ],
             [
              0.4444444444444444,
              "#bd3786"
             ],
             [
              0.5555555555555556,
              "#d8576b"
             ],
             [
              0.6666666666666666,
              "#ed7953"
             ],
             [
              0.7777777777777778,
              "#fb9f3a"
             ],
             [
              0.8888888888888888,
              "#fdca26"
             ],
             [
              1,
              "#f0f921"
             ]
            ],
            "type": "contour"
           }
          ],
          "contourcarpet": [
           {
            "colorbar": {
             "outlinewidth": 0,
             "ticks": ""
            },
            "type": "contourcarpet"
           }
          ],
          "heatmap": [
           {
            "colorbar": {
             "outlinewidth": 0,
             "ticks": ""
            },
            "colorscale": [
             [
              0,
              "#0d0887"
             ],
             [
              0.1111111111111111,
              "#46039f"
             ],
             [
              0.2222222222222222,
              "#7201a8"
             ],
             [
              0.3333333333333333,
              "#9c179e"
             ],
             [
              0.4444444444444444,
              "#bd3786"
             ],
             [
              0.5555555555555556,
              "#d8576b"
             ],
             [
              0.6666666666666666,
              "#ed7953"
             ],
             [
              0.7777777777777778,
              "#fb9f3a"
             ],
             [
              0.8888888888888888,
              "#fdca26"
             ],
             [
              1,
              "#f0f921"
             ]
            ],
            "type": "heatmap"
           }
          ],
          "heatmapgl": [
           {
            "colorbar": {
             "outlinewidth": 0,
             "ticks": ""
            },
            "colorscale": [
             [
              0,
              "#0d0887"
             ],
             [
              0.1111111111111111,
              "#46039f"
             ],
             [
              0.2222222222222222,
              "#7201a8"
             ],
             [
              0.3333333333333333,
              "#9c179e"
             ],
             [
              0.4444444444444444,
              "#bd3786"
             ],
             [
              0.5555555555555556,
              "#d8576b"
             ],
             [
              0.6666666666666666,
              "#ed7953"
             ],
             [
              0.7777777777777778,
              "#fb9f3a"
             ],
             [
              0.8888888888888888,
              "#fdca26"
             ],
             [
              1,
              "#f0f921"
             ]
            ],
            "type": "heatmapgl"
           }
          ],
          "histogram": [
           {
            "marker": {
             "pattern": {
              "fillmode": "overlay",
              "size": 10,
              "solidity": 0.2
             }
            },
            "type": "histogram"
           }
          ],
          "histogram2d": [
           {
            "colorbar": {
             "outlinewidth": 0,
             "ticks": ""
            },
            "colorscale": [
             [
              0,
              "#0d0887"
             ],
             [
              0.1111111111111111,
              "#46039f"
             ],
             [
              0.2222222222222222,
              "#7201a8"
             ],
             [
              0.3333333333333333,
              "#9c179e"
             ],
             [
              0.4444444444444444,
              "#bd3786"
             ],
             [
              0.5555555555555556,
              "#d8576b"
             ],
             [
              0.6666666666666666,
              "#ed7953"
             ],
             [
              0.7777777777777778,
              "#fb9f3a"
             ],
             [
              0.8888888888888888,
              "#fdca26"
             ],
             [
              1,
              "#f0f921"
             ]
            ],
            "type": "histogram2d"
           }
          ],
          "histogram2dcontour": [
           {
            "colorbar": {
             "outlinewidth": 0,
             "ticks": ""
            },
            "colorscale": [
             [
              0,
              "#0d0887"
             ],
             [
              0.1111111111111111,
              "#46039f"
             ],
             [
              0.2222222222222222,
              "#7201a8"
             ],
             [
              0.3333333333333333,
              "#9c179e"
             ],
             [
              0.4444444444444444,
              "#bd3786"
             ],
             [
              0.5555555555555556,
              "#d8576b"
             ],
             [
              0.6666666666666666,
              "#ed7953"
             ],
             [
              0.7777777777777778,
              "#fb9f3a"
             ],
             [
              0.8888888888888888,
              "#fdca26"
             ],
             [
              1,
              "#f0f921"
             ]
            ],
            "type": "histogram2dcontour"
           }
          ],
          "mesh3d": [
           {
            "colorbar": {
             "outlinewidth": 0,
             "ticks": ""
            },
            "type": "mesh3d"
           }
          ],
          "parcoords": [
           {
            "line": {
             "colorbar": {
              "outlinewidth": 0,
              "ticks": ""
             }
            },
            "type": "parcoords"
           }
          ],
          "pie": [
           {
            "automargin": true,
            "type": "pie"
           }
          ],
          "scatter": [
           {
            "fillpattern": {
             "fillmode": "overlay",
             "size": 10,
             "solidity": 0.2
            },
            "type": "scatter"
           }
          ],
          "scatter3d": [
           {
            "line": {
             "colorbar": {
              "outlinewidth": 0,
              "ticks": ""
             }
            },
            "marker": {
             "colorbar": {
              "outlinewidth": 0,
              "ticks": ""
             }
            },
            "type": "scatter3d"
           }
          ],
          "scattercarpet": [
           {
            "marker": {
             "colorbar": {
              "outlinewidth": 0,
              "ticks": ""
             }
            },
            "type": "scattercarpet"
           }
          ],
          "scattergeo": [
           {
            "marker": {
             "colorbar": {
              "outlinewidth": 0,
              "ticks": ""
             }
            },
            "type": "scattergeo"
           }
          ],
          "scattergl": [
           {
            "marker": {
             "colorbar": {
              "outlinewidth": 0,
              "ticks": ""
             }
            },
            "type": "scattergl"
           }
          ],
          "scattermapbox": [
           {
            "marker": {
             "colorbar": {
              "outlinewidth": 0,
              "ticks": ""
             }
            },
            "type": "scattermapbox"
           }
          ],
          "scatterpolar": [
           {
            "marker": {
             "colorbar": {
              "outlinewidth": 0,
              "ticks": ""
             }
            },
            "type": "scatterpolar"
           }
          ],
          "scatterpolargl": [
           {
            "marker": {
             "colorbar": {
              "outlinewidth": 0,
              "ticks": ""
             }
            },
            "type": "scatterpolargl"
           }
          ],
          "scatterternary": [
           {
            "marker": {
             "colorbar": {
              "outlinewidth": 0,
              "ticks": ""
             }
            },
            "type": "scatterternary"
           }
          ],
          "surface": [
           {
            "colorbar": {
             "outlinewidth": 0,
             "ticks": ""
            },
            "colorscale": [
             [
              0,
              "#0d0887"
             ],
             [
              0.1111111111111111,
              "#46039f"
             ],
             [
              0.2222222222222222,
              "#7201a8"
             ],
             [
              0.3333333333333333,
              "#9c179e"
             ],
             [
              0.4444444444444444,
              "#bd3786"
             ],
             [
              0.5555555555555556,
              "#d8576b"
             ],
             [
              0.6666666666666666,
              "#ed7953"
             ],
             [
              0.7777777777777778,
              "#fb9f3a"
             ],
             [
              0.8888888888888888,
              "#fdca26"
             ],
             [
              1,
              "#f0f921"
             ]
            ],
            "type": "surface"
           }
          ],
          "table": [
           {
            "cells": {
             "fill": {
              "color": "#EBF0F8"
             },
             "line": {
              "color": "white"
             }
            },
            "header": {
             "fill": {
              "color": "#C8D4E3"
             },
             "line": {
              "color": "white"
             }
            },
            "type": "table"
           }
          ]
         },
         "layout": {
          "annotationdefaults": {
           "arrowcolor": "#2a3f5f",
           "arrowhead": 0,
           "arrowwidth": 1
          },
          "autotypenumbers": "strict",
          "coloraxis": {
           "colorbar": {
            "outlinewidth": 0,
            "ticks": ""
           }
          },
          "colorscale": {
           "diverging": [
            [
             0,
             "#8e0152"
            ],
            [
             0.1,
             "#c51b7d"
            ],
            [
             0.2,
             "#de77ae"
            ],
            [
             0.3,
             "#f1b6da"
            ],
            [
             0.4,
             "#fde0ef"
            ],
            [
             0.5,
             "#f7f7f7"
            ],
            [
             0.6,
             "#e6f5d0"
            ],
            [
             0.7,
             "#b8e186"
            ],
            [
             0.8,
             "#7fbc41"
            ],
            [
             0.9,
             "#4d9221"
            ],
            [
             1,
             "#276419"
            ]
           ],
           "sequential": [
            [
             0,
             "#0d0887"
            ],
            [
             0.1111111111111111,
             "#46039f"
            ],
            [
             0.2222222222222222,
             "#7201a8"
            ],
            [
             0.3333333333333333,
             "#9c179e"
            ],
            [
             0.4444444444444444,
             "#bd3786"
            ],
            [
             0.5555555555555556,
             "#d8576b"
            ],
            [
             0.6666666666666666,
             "#ed7953"
            ],
            [
             0.7777777777777778,
             "#fb9f3a"
            ],
            [
             0.8888888888888888,
             "#fdca26"
            ],
            [
             1,
             "#f0f921"
            ]
           ],
           "sequentialminus": [
            [
             0,
             "#0d0887"
            ],
            [
             0.1111111111111111,
             "#46039f"
            ],
            [
             0.2222222222222222,
             "#7201a8"
            ],
            [
             0.3333333333333333,
             "#9c179e"
            ],
            [
             0.4444444444444444,
             "#bd3786"
            ],
            [
             0.5555555555555556,
             "#d8576b"
            ],
            [
             0.6666666666666666,
             "#ed7953"
            ],
            [
             0.7777777777777778,
             "#fb9f3a"
            ],
            [
             0.8888888888888888,
             "#fdca26"
            ],
            [
             1,
             "#f0f921"
            ]
           ]
          },
          "colorway": [
           "#636efa",
           "#EF553B",
           "#00cc96",
           "#ab63fa",
           "#FFA15A",
           "#19d3f3",
           "#FF6692",
           "#B6E880",
           "#FF97FF",
           "#FECB52"
          ],
          "font": {
           "color": "#2a3f5f"
          },
          "geo": {
           "bgcolor": "white",
           "lakecolor": "white",
           "landcolor": "#E5ECF6",
           "showlakes": true,
           "showland": true,
           "subunitcolor": "white"
          },
          "hoverlabel": {
           "align": "left"
          },
          "hovermode": "closest",
          "mapbox": {
           "style": "light"
          },
          "paper_bgcolor": "white",
          "plot_bgcolor": "#E5ECF6",
          "polar": {
           "angularaxis": {
            "gridcolor": "white",
            "linecolor": "white",
            "ticks": ""
           },
           "bgcolor": "#E5ECF6",
           "radialaxis": {
            "gridcolor": "white",
            "linecolor": "white",
            "ticks": ""
           }
          },
          "scene": {
           "xaxis": {
            "backgroundcolor": "#E5ECF6",
            "gridcolor": "white",
            "gridwidth": 2,
            "linecolor": "white",
            "showbackground": true,
            "ticks": "",
            "zerolinecolor": "white"
           },
           "yaxis": {
            "backgroundcolor": "#E5ECF6",
            "gridcolor": "white",
            "gridwidth": 2,
            "linecolor": "white",
            "showbackground": true,
            "ticks": "",
            "zerolinecolor": "white"
           },
           "zaxis": {
            "backgroundcolor": "#E5ECF6",
            "gridcolor": "white",
            "gridwidth": 2,
            "linecolor": "white",
            "showbackground": true,
            "ticks": "",
            "zerolinecolor": "white"
           }
          },
          "shapedefaults": {
           "line": {
            "color": "#2a3f5f"
           }
          },
          "ternary": {
           "aaxis": {
            "gridcolor": "white",
            "linecolor": "white",
            "ticks": ""
           },
           "baxis": {
            "gridcolor": "white",
            "linecolor": "white",
            "ticks": ""
           },
           "bgcolor": "#E5ECF6",
           "caxis": {
            "gridcolor": "white",
            "linecolor": "white",
            "ticks": ""
           }
          },
          "title": {
           "x": 0.05
          },
          "xaxis": {
           "automargin": true,
           "gridcolor": "white",
           "linecolor": "white",
           "ticks": "",
           "title": {
            "standoff": 15
           },
           "zerolinecolor": "white",
           "zerolinewidth": 2
          },
          "yaxis": {
           "automargin": true,
           "gridcolor": "white",
           "linecolor": "white",
           "ticks": "",
           "title": {
            "standoff": 15
           },
           "zerolinecolor": "white",
           "zerolinewidth": 2
          }
         }
        },
        "title": {
         "text": "A Figure Displayed with the 'svg' Renderer"
        }
       }
      }
     },
     "metadata": {},
     "output_type": "display_data"
    }
   ],
   "source": [
    "\n",
    "fig = go.Figure(\n",
    "    data=[go.Bar(y=[2, 1, 3])],\n",
    "    layout_title_text=\"A Figure Displayed with the 'svg' Renderer\"\n",
    ")\n",
    "fig\n",
    "\n",
    "# 替换原始渲染器为svg（需安装Kaleido）\n",
    "#fig.show(renderer=\"svg\")"
   ]
  },
  {
   "attachments": {},
   "cell_type": "markdown",
   "metadata": {},
   "source": [
    "# Template"
   ]
  },
  {
   "cell_type": "code",
   "execution_count": 3,
   "metadata": {},
   "outputs": [
    {
     "data": {
      "application/vnd.plotly.v1+json": {
       "config": {
        "plotlyServerURL": "https://plotly.com"
       },
       "data": [
        {
         "hovertemplate": "continent=Asia<br>gdpPercap=%{x}<br>lifeExp=%{y}<br>pop=%{marker.size}<extra></extra>",
         "legendgroup": "Asia",
         "marker": {
          "color": "#636efa",
          "size": [
           31889923,
           708573,
           150448339,
           14131858,
           1318683096,
           6980412,
           1110396331,
           223547000,
           69453570,
           27499638,
           6426679,
           127467972,
           6053193,
           23301725,
           49044790,
           2505559,
           3921278,
           24821286,
           2874127,
           47761980,
           28901790,
           3204897,
           169270617,
           91077287,
           27601038,
           4553009,
           20378239,
           19314747,
           23174294,
           65068149,
           85262356,
           4018332,
           22211743
          ],
          "sizemode": "area",
          "sizeref": 366300.86,
          "symbol": "circle"
         },
         "mode": "markers",
         "name": "Asia",
         "orientation": "v",
         "showlegend": true,
         "type": "scatter",
         "x": [
          974.5803384,
          29796.04834,
          1391.253792,
          1713.778686,
          4959.114854,
          39724.97867,
          2452.210407,
          3540.651564,
          11605.71449,
          4471.061906,
          25523.2771,
          31656.06806,
          4519.461171,
          1593.06548,
          23348.139730000006,
          47306.98978,
          10461.05868,
          12451.6558,
          3095.7722710000007,
          944,
          1091.359778,
          22316.19287,
          2605.94758,
          3190.481016,
          21654.83194,
          47143.17964,
          3970.095407,
          4184.548089,
          28718.27684,
          7458.396326999998,
          2441.576404,
          3025.349798,
          2280.769906
         ],
         "xaxis": "x",
         "y": [
          43.828,
          75.635,
          64.062,
          59.723,
          72.961,
          82.208,
          64.69800000000001,
          70.65,
          70.964,
          59.545,
          80.745,
          82.603,
          72.535,
          67.297,
          78.623,
          77.58800000000002,
          71.993,
          74.241,
          66.803,
          62.069,
          63.785,
          75.64,
          65.483,
          71.688,
          72.777,
          79.972,
          72.396,
          74.143,
          78.4,
          70.616,
          74.249,
          73.422,
          62.698
         ],
         "yaxis": "y"
        },
        {
         "hovertemplate": "continent=Europe<br>gdpPercap=%{x}<br>lifeExp=%{y}<br>pop=%{marker.size}<extra></extra>",
         "legendgroup": "Europe",
         "marker": {
          "color": "#EF553B",
          "size": [
           3600523,
           8199783,
           10392226,
           4552198,
           7322858,
           4493312,
           10228744,
           5468120,
           5238460,
           61083916,
           82400996,
           10706290,
           9956108,
           301931,
           4109086,
           58147733,
           684736,
           16570613,
           4627926,
           38518241,
           10642836,
           22276056,
           10150265,
           5447502,
           2009245,
           40448191,
           9031088,
           7554661,
           71158647,
           60776238
          ],
          "sizemode": "area",
          "sizeref": 366300.86,
          "symbol": "circle"
         },
         "mode": "markers",
         "name": "Europe",
         "orientation": "v",
         "showlegend": true,
         "type": "scatter",
         "x": [
          5937.029525999998,
          36126.4927,
          33692.60508,
          7446.298803,
          10680.79282,
          14619.222719999998,
          22833.30851,
          35278.41874,
          33207.0844,
          30470.0167,
          32170.37442,
          27538.41188,
          18008.94444,
          36180.78919,
          40675.99635,
          28569.7197,
          9253.896111,
          36797.93332,
          49357.19017,
          15389.924680000002,
          20509.64777,
          10808.47561,
          9786.534714,
          18678.31435,
          25768.25759,
          28821.0637,
          33859.74835,
          37506.41907,
          8458.276384,
          33203.26128
         ],
         "xaxis": "x",
         "y": [
          76.423,
          79.829,
          79.441,
          74.852,
          73.005,
          75.748,
          76.486,
          78.332,
          79.313,
          80.657,
          79.406,
          79.483,
          73.33800000000002,
          81.757,
          78.885,
          80.546,
          74.543,
          79.762,
          80.196,
          75.563,
          78.098,
          72.476,
          74.002,
          74.663,
          77.926,
          80.941,
          80.884,
          81.70100000000002,
          71.777,
          79.425
         ],
         "yaxis": "y"
        },
        {
         "hovertemplate": "continent=Africa<br>gdpPercap=%{x}<br>lifeExp=%{y}<br>pop=%{marker.size}<extra></extra>",
         "legendgroup": "Africa",
         "marker": {
          "color": "#00cc96",
          "size": [
           33333216,
           12420476,
           8078314,
           1639131,
           14326203,
           8390505,
           17696293,
           4369038,
           10238807,
           710960,
           64606759,
           3800610,
           18013409,
           496374,
           80264543,
           551201,
           4906585,
           76511887,
           1454867,
           1688359,
           22873338,
           9947814,
           1472041,
           35610177,
           2012649,
           3193942,
           6036914,
           19167654,
           13327079,
           12031795,
           3270065,
           1250882,
           33757175,
           19951656,
           2055080,
           12894865,
           135031164,
           798094,
           8860588,
           199579,
           12267493,
           6144562,
           9118773,
           43997828,
           42292929,
           1133066,
           38139640,
           5701579,
           10276158,
           29170398,
           11746035,
           12311143
          ],
          "sizemode": "area",
          "sizeref": 366300.86,
          "symbol": "circle"
         },
         "mode": "markers",
         "name": "Africa",
         "orientation": "v",
         "showlegend": true,
         "type": "scatter",
         "x": [
          6223.367465,
          4797.231267,
          1441.284873,
          12569.85177,
          1217.032994,
          430.0706916,
          2042.09524,
          706.016537,
          1704.063724,
          986.1478792,
          277.5518587,
          3632.557798,
          1544.750112,
          2082.4815670000007,
          5581.180998,
          12154.08975,
          641.3695236000002,
          690.8055759,
          13206.48452,
          752.7497265,
          1327.60891,
          942.6542111,
          579.2317429999998,
          1463.249282,
          1569.331442,
          414.5073415,
          12057.49928,
          1044.770126,
          759.3499101,
          1042.581557,
          1803.151496,
          10956.99112,
          3820.17523,
          823.6856205,
          4811.060429,
          619.6768923999998,
          2013.977305,
          7670.122558,
          863.0884639000002,
          1598.435089,
          1712.472136,
          862.5407561000002,
          926.1410683,
          9269.657808,
          2602.394995,
          4513.480643,
          1107.482182,
          882.9699437999999,
          7092.923025,
          1056.380121,
          1271.211593,
          469.70929810000007
         ],
         "xaxis": "x",
         "y": [
          72.301,
          42.731,
          56.728,
          50.728,
          52.295,
          49.58,
          50.43,
          44.74100000000001,
          50.651,
          65.152,
          46.462,
          55.322,
          48.328,
          54.791,
          71.33800000000002,
          51.57899999999999,
          58.04,
          52.947,
          56.735,
          59.448,
          60.022,
          56.007,
          46.38800000000001,
          54.11,
          42.592,
          45.678,
          73.952,
          59.44300000000001,
          48.303,
          54.467,
          64.164,
          72.801,
          71.164,
          42.082,
          52.90600000000001,
          56.867,
          46.859,
          76.442,
          46.242,
          65.528,
          63.062,
          42.56800000000001,
          48.159,
          49.339,
          58.556,
          39.613,
          52.517,
          58.42,
          73.923,
          51.542,
          42.38399999999999,
          43.487
         ],
         "yaxis": "y"
        },
        {
         "hovertemplate": "continent=Americas<br>gdpPercap=%{x}<br>lifeExp=%{y}<br>pop=%{marker.size}<extra></extra>",
         "legendgroup": "Americas",
         "marker": {
          "color": "#ab63fa",
          "size": [
           40301927,
           9119152,
           190010647,
           33390141,
           16284741,
           44227550,
           4133884,
           11416987,
           9319622,
           13755680,
           6939688,
           12572928,
           8502814,
           7483763,
           2780132,
           108700891,
           5675356,
           3242173,
           6667147,
           28674757,
           3942491,
           1056608,
           301139947,
           3447496,
           26084662
          ],
          "sizemode": "area",
          "sizeref": 366300.86,
          "symbol": "circle"
         },
         "mode": "markers",
         "name": "Americas",
         "orientation": "v",
         "showlegend": true,
         "type": "scatter",
         "x": [
          12779.37964,
          3822.137084,
          9065.800825,
          36319.23501,
          13171.63885,
          7006.580419,
          9645.06142,
          8948.102923,
          6025.3747520000015,
          6873.262326000001,
          5728.353514,
          5186.050003,
          1201.637154,
          3548.3308460000007,
          7320.8802620000015,
          11977.57496,
          2749.320965,
          9809.185636,
          4172.838464,
          7408.905561,
          19328.70901,
          18008.50924,
          42951.65309,
          10611.46299,
          11415.80569
         ],
         "xaxis": "x",
         "y": [
          75.32,
          65.554,
          72.39,
          80.653,
          78.553,
          72.889,
          78.782,
          78.273,
          72.235,
          74.994,
          71.878,
          70.259,
          60.916,
          70.19800000000001,
          72.567,
          76.195,
          72.899,
          75.53699999999998,
          71.752,
          71.421,
          78.74600000000002,
          69.819,
          78.242,
          76.384,
          73.747
         ],
         "yaxis": "y"
        },
        {
         "hovertemplate": "continent=Oceania<br>gdpPercap=%{x}<br>lifeExp=%{y}<br>pop=%{marker.size}<extra></extra>",
         "legendgroup": "Oceania",
         "marker": {
          "color": "#FFA15A",
          "size": [
           20434176,
           4115771
          ],
          "sizemode": "area",
          "sizeref": 366300.86,
          "symbol": "circle"
         },
         "mode": "markers",
         "name": "Oceania",
         "orientation": "v",
         "showlegend": true,
         "type": "scatter",
         "x": [
          34435.367439999995,
          25185.00911
         ],
         "xaxis": "x",
         "y": [
          81.235,
          80.204
         ],
         "yaxis": "y"
        }
       ],
       "layout": {
        "legend": {
         "itemsizing": "constant",
         "title": {
          "text": "continent"
         },
         "tracegroupgap": 0
        },
        "template": {
         "data": {
          "bar": [
           {
            "error_x": {
             "color": "#2a3f5f"
            },
            "error_y": {
             "color": "#2a3f5f"
            },
            "marker": {
             "line": {
              "color": "#E5ECF6",
              "width": 0.5
             },
             "pattern": {
              "fillmode": "overlay",
              "size": 10,
              "solidity": 0.2
             }
            },
            "type": "bar"
           }
          ],
          "barpolar": [
           {
            "marker": {
             "line": {
              "color": "#E5ECF6",
              "width": 0.5
             },
             "pattern": {
              "fillmode": "overlay",
              "size": 10,
              "solidity": 0.2
             }
            },
            "type": "barpolar"
           }
          ],
          "carpet": [
           {
            "aaxis": {
             "endlinecolor": "#2a3f5f",
             "gridcolor": "white",
             "linecolor": "white",
             "minorgridcolor": "white",
             "startlinecolor": "#2a3f5f"
            },
            "baxis": {
             "endlinecolor": "#2a3f5f",
             "gridcolor": "white",
             "linecolor": "white",
             "minorgridcolor": "white",
             "startlinecolor": "#2a3f5f"
            },
            "type": "carpet"
           }
          ],
          "choropleth": [
           {
            "colorbar": {
             "outlinewidth": 0,
             "ticks": ""
            },
            "type": "choropleth"
           }
          ],
          "contour": [
           {
            "colorbar": {
             "outlinewidth": 0,
             "ticks": ""
            },
            "colorscale": [
             [
              0,
              "#0d0887"
             ],
             [
              0.1111111111111111,
              "#46039f"
             ],
             [
              0.2222222222222222,
              "#7201a8"
             ],
             [
              0.3333333333333333,
              "#9c179e"
             ],
             [
              0.4444444444444444,
              "#bd3786"
             ],
             [
              0.5555555555555556,
              "#d8576b"
             ],
             [
              0.6666666666666666,
              "#ed7953"
             ],
             [
              0.7777777777777778,
              "#fb9f3a"
             ],
             [
              0.8888888888888888,
              "#fdca26"
             ],
             [
              1,
              "#f0f921"
             ]
            ],
            "type": "contour"
           }
          ],
          "contourcarpet": [
           {
            "colorbar": {
             "outlinewidth": 0,
             "ticks": ""
            },
            "type": "contourcarpet"
           }
          ],
          "heatmap": [
           {
            "colorbar": {
             "outlinewidth": 0,
             "ticks": ""
            },
            "colorscale": [
             [
              0,
              "#0d0887"
             ],
             [
              0.1111111111111111,
              "#46039f"
             ],
             [
              0.2222222222222222,
              "#7201a8"
             ],
             [
              0.3333333333333333,
              "#9c179e"
             ],
             [
              0.4444444444444444,
              "#bd3786"
             ],
             [
              0.5555555555555556,
              "#d8576b"
             ],
             [
              0.6666666666666666,
              "#ed7953"
             ],
             [
              0.7777777777777778,
              "#fb9f3a"
             ],
             [
              0.8888888888888888,
              "#fdca26"
             ],
             [
              1,
              "#f0f921"
             ]
            ],
            "type": "heatmap"
           }
          ],
          "heatmapgl": [
           {
            "colorbar": {
             "outlinewidth": 0,
             "ticks": ""
            },
            "colorscale": [
             [
              0,
              "#0d0887"
             ],
             [
              0.1111111111111111,
              "#46039f"
             ],
             [
              0.2222222222222222,
              "#7201a8"
             ],
             [
              0.3333333333333333,
              "#9c179e"
             ],
             [
              0.4444444444444444,
              "#bd3786"
             ],
             [
              0.5555555555555556,
              "#d8576b"
             ],
             [
              0.6666666666666666,
              "#ed7953"
             ],
             [
              0.7777777777777778,
              "#fb9f3a"
             ],
             [
              0.8888888888888888,
              "#fdca26"
             ],
             [
              1,
              "#f0f921"
             ]
            ],
            "type": "heatmapgl"
           }
          ],
          "histogram": [
           {
            "marker": {
             "pattern": {
              "fillmode": "overlay",
              "size": 10,
              "solidity": 0.2
             }
            },
            "type": "histogram"
           }
          ],
          "histogram2d": [
           {
            "colorbar": {
             "outlinewidth": 0,
             "ticks": ""
            },
            "colorscale": [
             [
              0,
              "#0d0887"
             ],
             [
              0.1111111111111111,
              "#46039f"
             ],
             [
              0.2222222222222222,
              "#7201a8"
             ],
             [
              0.3333333333333333,
              "#9c179e"
             ],
             [
              0.4444444444444444,
              "#bd3786"
             ],
             [
              0.5555555555555556,
              "#d8576b"
             ],
             [
              0.6666666666666666,
              "#ed7953"
             ],
             [
              0.7777777777777778,
              "#fb9f3a"
             ],
             [
              0.8888888888888888,
              "#fdca26"
             ],
             [
              1,
              "#f0f921"
             ]
            ],
            "type": "histogram2d"
           }
          ],
          "histogram2dcontour": [
           {
            "colorbar": {
             "outlinewidth": 0,
             "ticks": ""
            },
            "colorscale": [
             [
              0,
              "#0d0887"
             ],
             [
              0.1111111111111111,
              "#46039f"
             ],
             [
              0.2222222222222222,
              "#7201a8"
             ],
             [
              0.3333333333333333,
              "#9c179e"
             ],
             [
              0.4444444444444444,
              "#bd3786"
             ],
             [
              0.5555555555555556,
              "#d8576b"
             ],
             [
              0.6666666666666666,
              "#ed7953"
             ],
             [
              0.7777777777777778,
              "#fb9f3a"
             ],
             [
              0.8888888888888888,
              "#fdca26"
             ],
             [
              1,
              "#f0f921"
             ]
            ],
            "type": "histogram2dcontour"
           }
          ],
          "mesh3d": [
           {
            "colorbar": {
             "outlinewidth": 0,
             "ticks": ""
            },
            "type": "mesh3d"
           }
          ],
          "parcoords": [
           {
            "line": {
             "colorbar": {
              "outlinewidth": 0,
              "ticks": ""
             }
            },
            "type": "parcoords"
           }
          ],
          "pie": [
           {
            "automargin": true,
            "type": "pie"
           }
          ],
          "scatter": [
           {
            "fillpattern": {
             "fillmode": "overlay",
             "size": 10,
             "solidity": 0.2
            },
            "type": "scatter"
           }
          ],
          "scatter3d": [
           {
            "line": {
             "colorbar": {
              "outlinewidth": 0,
              "ticks": ""
             }
            },
            "marker": {
             "colorbar": {
              "outlinewidth": 0,
              "ticks": ""
             }
            },
            "type": "scatter3d"
           }
          ],
          "scattercarpet": [
           {
            "marker": {
             "colorbar": {
              "outlinewidth": 0,
              "ticks": ""
             }
            },
            "type": "scattercarpet"
           }
          ],
          "scattergeo": [
           {
            "marker": {
             "colorbar": {
              "outlinewidth": 0,
              "ticks": ""
             }
            },
            "type": "scattergeo"
           }
          ],
          "scattergl": [
           {
            "marker": {
             "colorbar": {
              "outlinewidth": 0,
              "ticks": ""
             }
            },
            "type": "scattergl"
           }
          ],
          "scattermapbox": [
           {
            "marker": {
             "colorbar": {
              "outlinewidth": 0,
              "ticks": ""
             }
            },
            "type": "scattermapbox"
           }
          ],
          "scatterpolar": [
           {
            "marker": {
             "colorbar": {
              "outlinewidth": 0,
              "ticks": ""
             }
            },
            "type": "scatterpolar"
           }
          ],
          "scatterpolargl": [
           {
            "marker": {
             "colorbar": {
              "outlinewidth": 0,
              "ticks": ""
             }
            },
            "type": "scatterpolargl"
           }
          ],
          "scatterternary": [
           {
            "marker": {
             "colorbar": {
              "outlinewidth": 0,
              "ticks": ""
             }
            },
            "type": "scatterternary"
           }
          ],
          "surface": [
           {
            "colorbar": {
             "outlinewidth": 0,
             "ticks": ""
            },
            "colorscale": [
             [
              0,
              "#0d0887"
             ],
             [
              0.1111111111111111,
              "#46039f"
             ],
             [
              0.2222222222222222,
              "#7201a8"
             ],
             [
              0.3333333333333333,
              "#9c179e"
             ],
             [
              0.4444444444444444,
              "#bd3786"
             ],
             [
              0.5555555555555556,
              "#d8576b"
             ],
             [
              0.6666666666666666,
              "#ed7953"
             ],
             [
              0.7777777777777778,
              "#fb9f3a"
             ],
             [
              0.8888888888888888,
              "#fdca26"
             ],
             [
              1,
              "#f0f921"
             ]
            ],
            "type": "surface"
           }
          ],
          "table": [
           {
            "cells": {
             "fill": {
              "color": "#EBF0F8"
             },
             "line": {
              "color": "white"
             }
            },
            "header": {
             "fill": {
              "color": "#C8D4E3"
             },
             "line": {
              "color": "white"
             }
            },
            "type": "table"
           }
          ]
         },
         "layout": {
          "annotationdefaults": {
           "arrowcolor": "#2a3f5f",
           "arrowhead": 0,
           "arrowwidth": 1
          },
          "autotypenumbers": "strict",
          "coloraxis": {
           "colorbar": {
            "outlinewidth": 0,
            "ticks": ""
           }
          },
          "colorscale": {
           "diverging": [
            [
             0,
             "#8e0152"
            ],
            [
             0.1,
             "#c51b7d"
            ],
            [
             0.2,
             "#de77ae"
            ],
            [
             0.3,
             "#f1b6da"
            ],
            [
             0.4,
             "#fde0ef"
            ],
            [
             0.5,
             "#f7f7f7"
            ],
            [
             0.6,
             "#e6f5d0"
            ],
            [
             0.7,
             "#b8e186"
            ],
            [
             0.8,
             "#7fbc41"
            ],
            [
             0.9,
             "#4d9221"
            ],
            [
             1,
             "#276419"
            ]
           ],
           "sequential": [
            [
             0,
             "#0d0887"
            ],
            [
             0.1111111111111111,
             "#46039f"
            ],
            [
             0.2222222222222222,
             "#7201a8"
            ],
            [
             0.3333333333333333,
             "#9c179e"
            ],
            [
             0.4444444444444444,
             "#bd3786"
            ],
            [
             0.5555555555555556,
             "#d8576b"
            ],
            [
             0.6666666666666666,
             "#ed7953"
            ],
            [
             0.7777777777777778,
             "#fb9f3a"
            ],
            [
             0.8888888888888888,
             "#fdca26"
            ],
            [
             1,
             "#f0f921"
            ]
           ],
           "sequentialminus": [
            [
             0,
             "#0d0887"
            ],
            [
             0.1111111111111111,
             "#46039f"
            ],
            [
             0.2222222222222222,
             "#7201a8"
            ],
            [
             0.3333333333333333,
             "#9c179e"
            ],
            [
             0.4444444444444444,
             "#bd3786"
            ],
            [
             0.5555555555555556,
             "#d8576b"
            ],
            [
             0.6666666666666666,
             "#ed7953"
            ],
            [
             0.7777777777777778,
             "#fb9f3a"
            ],
            [
             0.8888888888888888,
             "#fdca26"
            ],
            [
             1,
             "#f0f921"
            ]
           ]
          },
          "colorway": [
           "#636efa",
           "#EF553B",
           "#00cc96",
           "#ab63fa",
           "#FFA15A",
           "#19d3f3",
           "#FF6692",
           "#B6E880",
           "#FF97FF",
           "#FECB52"
          ],
          "font": {
           "color": "#2a3f5f"
          },
          "geo": {
           "bgcolor": "white",
           "lakecolor": "white",
           "landcolor": "#E5ECF6",
           "showlakes": true,
           "showland": true,
           "subunitcolor": "white"
          },
          "hoverlabel": {
           "align": "left"
          },
          "hovermode": "closest",
          "mapbox": {
           "style": "light"
          },
          "paper_bgcolor": "white",
          "plot_bgcolor": "#E5ECF6",
          "polar": {
           "angularaxis": {
            "gridcolor": "white",
            "linecolor": "white",
            "ticks": ""
           },
           "bgcolor": "#E5ECF6",
           "radialaxis": {
            "gridcolor": "white",
            "linecolor": "white",
            "ticks": ""
           }
          },
          "scene": {
           "xaxis": {
            "backgroundcolor": "#E5ECF6",
            "gridcolor": "white",
            "gridwidth": 2,
            "linecolor": "white",
            "showbackground": true,
            "ticks": "",
            "zerolinecolor": "white"
           },
           "yaxis": {
            "backgroundcolor": "#E5ECF6",
            "gridcolor": "white",
            "gridwidth": 2,
            "linecolor": "white",
            "showbackground": true,
            "ticks": "",
            "zerolinecolor": "white"
           },
           "zaxis": {
            "backgroundcolor": "#E5ECF6",
            "gridcolor": "white",
            "gridwidth": 2,
            "linecolor": "white",
            "showbackground": true,
            "ticks": "",
            "zerolinecolor": "white"
           }
          },
          "shapedefaults": {
           "line": {
            "color": "#2a3f5f"
           }
          },
          "ternary": {
           "aaxis": {
            "gridcolor": "white",
            "linecolor": "white",
            "ticks": ""
           },
           "baxis": {
            "gridcolor": "white",
            "linecolor": "white",
            "ticks": ""
           },
           "bgcolor": "#E5ECF6",
           "caxis": {
            "gridcolor": "white",
            "linecolor": "white",
            "ticks": ""
           }
          },
          "title": {
           "x": 0.05
          },
          "xaxis": {
           "automargin": true,
           "gridcolor": "white",
           "linecolor": "white",
           "ticks": "",
           "title": {
            "standoff": 15
           },
           "zerolinecolor": "white",
           "zerolinewidth": 2
          },
          "yaxis": {
           "automargin": true,
           "gridcolor": "white",
           "linecolor": "white",
           "ticks": "",
           "title": {
            "standoff": 15
           },
           "zerolinecolor": "white",
           "zerolinewidth": 2
          }
         }
        },
        "title": {
         "text": "Gapminder 2007: 'plotly' theme"
        },
        "xaxis": {
         "anchor": "y",
         "domain": [
          0,
          1
         ],
         "title": {
          "text": "gdpPercap"
         },
         "type": "log"
        },
        "yaxis": {
         "anchor": "x",
         "domain": [
          0,
          1
         ],
         "title": {
          "text": "lifeExp"
         }
        }
       }
      }
     },
     "metadata": {},
     "output_type": "display_data"
    },
    {
     "data": {
      "application/vnd.plotly.v1+json": {
       "config": {
        "plotlyServerURL": "https://plotly.com"
       },
       "data": [
        {
         "hovertemplate": "continent=Asia<br>gdpPercap=%{x}<br>lifeExp=%{y}<br>pop=%{marker.size}<extra></extra>",
         "legendgroup": "Asia",
         "marker": {
          "color": "#636efa",
          "size": [
           31889923,
           708573,
           150448339,
           14131858,
           1318683096,
           6980412,
           1110396331,
           223547000,
           69453570,
           27499638,
           6426679,
           127467972,
           6053193,
           23301725,
           49044790,
           2505559,
           3921278,
           24821286,
           2874127,
           47761980,
           28901790,
           3204897,
           169270617,
           91077287,
           27601038,
           4553009,
           20378239,
           19314747,
           23174294,
           65068149,
           85262356,
           4018332,
           22211743
          ],
          "sizemode": "area",
          "sizeref": 366300.86,
          "symbol": "circle"
         },
         "mode": "markers",
         "name": "Asia",
         "orientation": "v",
         "showlegend": true,
         "type": "scatter",
         "x": [
          974.5803384,
          29796.04834,
          1391.253792,
          1713.778686,
          4959.114854,
          39724.97867,
          2452.210407,
          3540.651564,
          11605.71449,
          4471.061906,
          25523.2771,
          31656.06806,
          4519.461171,
          1593.06548,
          23348.139730000006,
          47306.98978,
          10461.05868,
          12451.6558,
          3095.7722710000007,
          944,
          1091.359778,
          22316.19287,
          2605.94758,
          3190.481016,
          21654.83194,
          47143.17964,
          3970.095407,
          4184.548089,
          28718.27684,
          7458.396326999998,
          2441.576404,
          3025.349798,
          2280.769906
         ],
         "xaxis": "x",
         "y": [
          43.828,
          75.635,
          64.062,
          59.723,
          72.961,
          82.208,
          64.69800000000001,
          70.65,
          70.964,
          59.545,
          80.745,
          82.603,
          72.535,
          67.297,
          78.623,
          77.58800000000002,
          71.993,
          74.241,
          66.803,
          62.069,
          63.785,
          75.64,
          65.483,
          71.688,
          72.777,
          79.972,
          72.396,
          74.143,
          78.4,
          70.616,
          74.249,
          73.422,
          62.698
         ],
         "yaxis": "y"
        },
        {
         "hovertemplate": "continent=Europe<br>gdpPercap=%{x}<br>lifeExp=%{y}<br>pop=%{marker.size}<extra></extra>",
         "legendgroup": "Europe",
         "marker": {
          "color": "#EF553B",
          "size": [
           3600523,
           8199783,
           10392226,
           4552198,
           7322858,
           4493312,
           10228744,
           5468120,
           5238460,
           61083916,
           82400996,
           10706290,
           9956108,
           301931,
           4109086,
           58147733,
           684736,
           16570613,
           4627926,
           38518241,
           10642836,
           22276056,
           10150265,
           5447502,
           2009245,
           40448191,
           9031088,
           7554661,
           71158647,
           60776238
          ],
          "sizemode": "area",
          "sizeref": 366300.86,
          "symbol": "circle"
         },
         "mode": "markers",
         "name": "Europe",
         "orientation": "v",
         "showlegend": true,
         "type": "scatter",
         "x": [
          5937.029525999998,
          36126.4927,
          33692.60508,
          7446.298803,
          10680.79282,
          14619.222719999998,
          22833.30851,
          35278.41874,
          33207.0844,
          30470.0167,
          32170.37442,
          27538.41188,
          18008.94444,
          36180.78919,
          40675.99635,
          28569.7197,
          9253.896111,
          36797.93332,
          49357.19017,
          15389.924680000002,
          20509.64777,
          10808.47561,
          9786.534714,
          18678.31435,
          25768.25759,
          28821.0637,
          33859.74835,
          37506.41907,
          8458.276384,
          33203.26128
         ],
         "xaxis": "x",
         "y": [
          76.423,
          79.829,
          79.441,
          74.852,
          73.005,
          75.748,
          76.486,
          78.332,
          79.313,
          80.657,
          79.406,
          79.483,
          73.33800000000002,
          81.757,
          78.885,
          80.546,
          74.543,
          79.762,
          80.196,
          75.563,
          78.098,
          72.476,
          74.002,
          74.663,
          77.926,
          80.941,
          80.884,
          81.70100000000002,
          71.777,
          79.425
         ],
         "yaxis": "y"
        },
        {
         "hovertemplate": "continent=Africa<br>gdpPercap=%{x}<br>lifeExp=%{y}<br>pop=%{marker.size}<extra></extra>",
         "legendgroup": "Africa",
         "marker": {
          "color": "#00cc96",
          "size": [
           33333216,
           12420476,
           8078314,
           1639131,
           14326203,
           8390505,
           17696293,
           4369038,
           10238807,
           710960,
           64606759,
           3800610,
           18013409,
           496374,
           80264543,
           551201,
           4906585,
           76511887,
           1454867,
           1688359,
           22873338,
           9947814,
           1472041,
           35610177,
           2012649,
           3193942,
           6036914,
           19167654,
           13327079,
           12031795,
           3270065,
           1250882,
           33757175,
           19951656,
           2055080,
           12894865,
           135031164,
           798094,
           8860588,
           199579,
           12267493,
           6144562,
           9118773,
           43997828,
           42292929,
           1133066,
           38139640,
           5701579,
           10276158,
           29170398,
           11746035,
           12311143
          ],
          "sizemode": "area",
          "sizeref": 366300.86,
          "symbol": "circle"
         },
         "mode": "markers",
         "name": "Africa",
         "orientation": "v",
         "showlegend": true,
         "type": "scatter",
         "x": [
          6223.367465,
          4797.231267,
          1441.284873,
          12569.85177,
          1217.032994,
          430.0706916,
          2042.09524,
          706.016537,
          1704.063724,
          986.1478792,
          277.5518587,
          3632.557798,
          1544.750112,
          2082.4815670000007,
          5581.180998,
          12154.08975,
          641.3695236000002,
          690.8055759,
          13206.48452,
          752.7497265,
          1327.60891,
          942.6542111,
          579.2317429999998,
          1463.249282,
          1569.331442,
          414.5073415,
          12057.49928,
          1044.770126,
          759.3499101,
          1042.581557,
          1803.151496,
          10956.99112,
          3820.17523,
          823.6856205,
          4811.060429,
          619.6768923999998,
          2013.977305,
          7670.122558,
          863.0884639000002,
          1598.435089,
          1712.472136,
          862.5407561000002,
          926.1410683,
          9269.657808,
          2602.394995,
          4513.480643,
          1107.482182,
          882.9699437999999,
          7092.923025,
          1056.380121,
          1271.211593,
          469.70929810000007
         ],
         "xaxis": "x",
         "y": [
          72.301,
          42.731,
          56.728,
          50.728,
          52.295,
          49.58,
          50.43,
          44.74100000000001,
          50.651,
          65.152,
          46.462,
          55.322,
          48.328,
          54.791,
          71.33800000000002,
          51.57899999999999,
          58.04,
          52.947,
          56.735,
          59.448,
          60.022,
          56.007,
          46.38800000000001,
          54.11,
          42.592,
          45.678,
          73.952,
          59.44300000000001,
          48.303,
          54.467,
          64.164,
          72.801,
          71.164,
          42.082,
          52.90600000000001,
          56.867,
          46.859,
          76.442,
          46.242,
          65.528,
          63.062,
          42.56800000000001,
          48.159,
          49.339,
          58.556,
          39.613,
          52.517,
          58.42,
          73.923,
          51.542,
          42.38399999999999,
          43.487
         ],
         "yaxis": "y"
        },
        {
         "hovertemplate": "continent=Americas<br>gdpPercap=%{x}<br>lifeExp=%{y}<br>pop=%{marker.size}<extra></extra>",
         "legendgroup": "Americas",
         "marker": {
          "color": "#ab63fa",
          "size": [
           40301927,
           9119152,
           190010647,
           33390141,
           16284741,
           44227550,
           4133884,
           11416987,
           9319622,
           13755680,
           6939688,
           12572928,
           8502814,
           7483763,
           2780132,
           108700891,
           5675356,
           3242173,
           6667147,
           28674757,
           3942491,
           1056608,
           301139947,
           3447496,
           26084662
          ],
          "sizemode": "area",
          "sizeref": 366300.86,
          "symbol": "circle"
         },
         "mode": "markers",
         "name": "Americas",
         "orientation": "v",
         "showlegend": true,
         "type": "scatter",
         "x": [
          12779.37964,
          3822.137084,
          9065.800825,
          36319.23501,
          13171.63885,
          7006.580419,
          9645.06142,
          8948.102923,
          6025.3747520000015,
          6873.262326000001,
          5728.353514,
          5186.050003,
          1201.637154,
          3548.3308460000007,
          7320.8802620000015,
          11977.57496,
          2749.320965,
          9809.185636,
          4172.838464,
          7408.905561,
          19328.70901,
          18008.50924,
          42951.65309,
          10611.46299,
          11415.80569
         ],
         "xaxis": "x",
         "y": [
          75.32,
          65.554,
          72.39,
          80.653,
          78.553,
          72.889,
          78.782,
          78.273,
          72.235,
          74.994,
          71.878,
          70.259,
          60.916,
          70.19800000000001,
          72.567,
          76.195,
          72.899,
          75.53699999999998,
          71.752,
          71.421,
          78.74600000000002,
          69.819,
          78.242,
          76.384,
          73.747
         ],
         "yaxis": "y"
        },
        {
         "hovertemplate": "continent=Oceania<br>gdpPercap=%{x}<br>lifeExp=%{y}<br>pop=%{marker.size}<extra></extra>",
         "legendgroup": "Oceania",
         "marker": {
          "color": "#FFA15A",
          "size": [
           20434176,
           4115771
          ],
          "sizemode": "area",
          "sizeref": 366300.86,
          "symbol": "circle"
         },
         "mode": "markers",
         "name": "Oceania",
         "orientation": "v",
         "showlegend": true,
         "type": "scatter",
         "x": [
          34435.367439999995,
          25185.00911
         ],
         "xaxis": "x",
         "y": [
          81.235,
          80.204
         ],
         "yaxis": "y"
        }
       ],
       "layout": {
        "legend": {
         "itemsizing": "constant",
         "title": {
          "text": "continent"
         },
         "tracegroupgap": 0
        },
        "template": {
         "data": {
          "bar": [
           {
            "error_x": {
             "color": "#2a3f5f"
            },
            "error_y": {
             "color": "#2a3f5f"
            },
            "marker": {
             "line": {
              "color": "white",
              "width": 0.5
             },
             "pattern": {
              "fillmode": "overlay",
              "size": 10,
              "solidity": 0.2
             }
            },
            "type": "bar"
           }
          ],
          "barpolar": [
           {
            "marker": {
             "line": {
              "color": "white",
              "width": 0.5
             },
             "pattern": {
              "fillmode": "overlay",
              "size": 10,
              "solidity": 0.2
             }
            },
            "type": "barpolar"
           }
          ],
          "carpet": [
           {
            "aaxis": {
             "endlinecolor": "#2a3f5f",
             "gridcolor": "#C8D4E3",
             "linecolor": "#C8D4E3",
             "minorgridcolor": "#C8D4E3",
             "startlinecolor": "#2a3f5f"
            },
            "baxis": {
             "endlinecolor": "#2a3f5f",
             "gridcolor": "#C8D4E3",
             "linecolor": "#C8D4E3",
             "minorgridcolor": "#C8D4E3",
             "startlinecolor": "#2a3f5f"
            },
            "type": "carpet"
           }
          ],
          "choropleth": [
           {
            "colorbar": {
             "outlinewidth": 0,
             "ticks": ""
            },
            "type": "choropleth"
           }
          ],
          "contour": [
           {
            "colorbar": {
             "outlinewidth": 0,
             "ticks": ""
            },
            "colorscale": [
             [
              0,
              "#0d0887"
             ],
             [
              0.1111111111111111,
              "#46039f"
             ],
             [
              0.2222222222222222,
              "#7201a8"
             ],
             [
              0.3333333333333333,
              "#9c179e"
             ],
             [
              0.4444444444444444,
              "#bd3786"
             ],
             [
              0.5555555555555556,
              "#d8576b"
             ],
             [
              0.6666666666666666,
              "#ed7953"
             ],
             [
              0.7777777777777778,
              "#fb9f3a"
             ],
             [
              0.8888888888888888,
              "#fdca26"
             ],
             [
              1,
              "#f0f921"
             ]
            ],
            "type": "contour"
           }
          ],
          "contourcarpet": [
           {
            "colorbar": {
             "outlinewidth": 0,
             "ticks": ""
            },
            "type": "contourcarpet"
           }
          ],
          "heatmap": [
           {
            "colorbar": {
             "outlinewidth": 0,
             "ticks": ""
            },
            "colorscale": [
             [
              0,
              "#0d0887"
             ],
             [
              0.1111111111111111,
              "#46039f"
             ],
             [
              0.2222222222222222,
              "#7201a8"
             ],
             [
              0.3333333333333333,
              "#9c179e"
             ],
             [
              0.4444444444444444,
              "#bd3786"
             ],
             [
              0.5555555555555556,
              "#d8576b"
             ],
             [
              0.6666666666666666,
              "#ed7953"
             ],
             [
              0.7777777777777778,
              "#fb9f3a"
             ],
             [
              0.8888888888888888,
              "#fdca26"
             ],
             [
              1,
              "#f0f921"
             ]
            ],
            "type": "heatmap"
           }
          ],
          "heatmapgl": [
           {
            "colorbar": {
             "outlinewidth": 0,
             "ticks": ""
            },
            "colorscale": [
             [
              0,
              "#0d0887"
             ],
             [
              0.1111111111111111,
              "#46039f"
             ],
             [
              0.2222222222222222,
              "#7201a8"
             ],
             [
              0.3333333333333333,
              "#9c179e"
             ],
             [
              0.4444444444444444,
              "#bd3786"
             ],
             [
              0.5555555555555556,
              "#d8576b"
             ],
             [
              0.6666666666666666,
              "#ed7953"
             ],
             [
              0.7777777777777778,
              "#fb9f3a"
             ],
             [
              0.8888888888888888,
              "#fdca26"
             ],
             [
              1,
              "#f0f921"
             ]
            ],
            "type": "heatmapgl"
           }
          ],
          "histogram": [
           {
            "marker": {
             "pattern": {
              "fillmode": "overlay",
              "size": 10,
              "solidity": 0.2
             }
            },
            "type": "histogram"
           }
          ],
          "histogram2d": [
           {
            "colorbar": {
             "outlinewidth": 0,
             "ticks": ""
            },
            "colorscale": [
             [
              0,
              "#0d0887"
             ],
             [
              0.1111111111111111,
              "#46039f"
             ],
             [
              0.2222222222222222,
              "#7201a8"
             ],
             [
              0.3333333333333333,
              "#9c179e"
             ],
             [
              0.4444444444444444,
              "#bd3786"
             ],
             [
              0.5555555555555556,
              "#d8576b"
             ],
             [
              0.6666666666666666,
              "#ed7953"
             ],
             [
              0.7777777777777778,
              "#fb9f3a"
             ],
             [
              0.8888888888888888,
              "#fdca26"
             ],
             [
              1,
              "#f0f921"
             ]
            ],
            "type": "histogram2d"
           }
          ],
          "histogram2dcontour": [
           {
            "colorbar": {
             "outlinewidth": 0,
             "ticks": ""
            },
            "colorscale": [
             [
              0,
              "#0d0887"
             ],
             [
              0.1111111111111111,
              "#46039f"
             ],
             [
              0.2222222222222222,
              "#7201a8"
             ],
             [
              0.3333333333333333,
              "#9c179e"
             ],
             [
              0.4444444444444444,
              "#bd3786"
             ],
             [
              0.5555555555555556,
              "#d8576b"
             ],
             [
              0.6666666666666666,
              "#ed7953"
             ],
             [
              0.7777777777777778,
              "#fb9f3a"
             ],
             [
              0.8888888888888888,
              "#fdca26"
             ],
             [
              1,
              "#f0f921"
             ]
            ],
            "type": "histogram2dcontour"
           }
          ],
          "mesh3d": [
           {
            "colorbar": {
             "outlinewidth": 0,
             "ticks": ""
            },
            "type": "mesh3d"
           }
          ],
          "parcoords": [
           {
            "line": {
             "colorbar": {
              "outlinewidth": 0,
              "ticks": ""
             }
            },
            "type": "parcoords"
           }
          ],
          "pie": [
           {
            "automargin": true,
            "type": "pie"
           }
          ],
          "scatter": [
           {
            "fillpattern": {
             "fillmode": "overlay",
             "size": 10,
             "solidity": 0.2
            },
            "type": "scatter"
           }
          ],
          "scatter3d": [
           {
            "line": {
             "colorbar": {
              "outlinewidth": 0,
              "ticks": ""
             }
            },
            "marker": {
             "colorbar": {
              "outlinewidth": 0,
              "ticks": ""
             }
            },
            "type": "scatter3d"
           }
          ],
          "scattercarpet": [
           {
            "marker": {
             "colorbar": {
              "outlinewidth": 0,
              "ticks": ""
             }
            },
            "type": "scattercarpet"
           }
          ],
          "scattergeo": [
           {
            "marker": {
             "colorbar": {
              "outlinewidth": 0,
              "ticks": ""
             }
            },
            "type": "scattergeo"
           }
          ],
          "scattergl": [
           {
            "marker": {
             "colorbar": {
              "outlinewidth": 0,
              "ticks": ""
             }
            },
            "type": "scattergl"
           }
          ],
          "scattermapbox": [
           {
            "marker": {
             "colorbar": {
              "outlinewidth": 0,
              "ticks": ""
             }
            },
            "type": "scattermapbox"
           }
          ],
          "scatterpolar": [
           {
            "marker": {
             "colorbar": {
              "outlinewidth": 0,
              "ticks": ""
             }
            },
            "type": "scatterpolar"
           }
          ],
          "scatterpolargl": [
           {
            "marker": {
             "colorbar": {
              "outlinewidth": 0,
              "ticks": ""
             }
            },
            "type": "scatterpolargl"
           }
          ],
          "scatterternary": [
           {
            "marker": {
             "colorbar": {
              "outlinewidth": 0,
              "ticks": ""
             }
            },
            "type": "scatterternary"
           }
          ],
          "surface": [
           {
            "colorbar": {
             "outlinewidth": 0,
             "ticks": ""
            },
            "colorscale": [
             [
              0,
              "#0d0887"
             ],
             [
              0.1111111111111111,
              "#46039f"
             ],
             [
              0.2222222222222222,
              "#7201a8"
             ],
             [
              0.3333333333333333,
              "#9c179e"
             ],
             [
              0.4444444444444444,
              "#bd3786"
             ],
             [
              0.5555555555555556,
              "#d8576b"
             ],
             [
              0.6666666666666666,
              "#ed7953"
             ],
             [
              0.7777777777777778,
              "#fb9f3a"
             ],
             [
              0.8888888888888888,
              "#fdca26"
             ],
             [
              1,
              "#f0f921"
             ]
            ],
            "type": "surface"
           }
          ],
          "table": [
           {
            "cells": {
             "fill": {
              "color": "#EBF0F8"
             },
             "line": {
              "color": "white"
             }
            },
            "header": {
             "fill": {
              "color": "#C8D4E3"
             },
             "line": {
              "color": "white"
             }
            },
            "type": "table"
           }
          ]
         },
         "layout": {
          "annotationdefaults": {
           "arrowcolor": "#2a3f5f",
           "arrowhead": 0,
           "arrowwidth": 1
          },
          "autotypenumbers": "strict",
          "coloraxis": {
           "colorbar": {
            "outlinewidth": 0,
            "ticks": ""
           }
          },
          "colorscale": {
           "diverging": [
            [
             0,
             "#8e0152"
            ],
            [
             0.1,
             "#c51b7d"
            ],
            [
             0.2,
             "#de77ae"
            ],
            [
             0.3,
             "#f1b6da"
            ],
            [
             0.4,
             "#fde0ef"
            ],
            [
             0.5,
             "#f7f7f7"
            ],
            [
             0.6,
             "#e6f5d0"
            ],
            [
             0.7,
             "#b8e186"
            ],
            [
             0.8,
             "#7fbc41"
            ],
            [
             0.9,
             "#4d9221"
            ],
            [
             1,
             "#276419"
            ]
           ],
           "sequential": [
            [
             0,
             "#0d0887"
            ],
            [
             0.1111111111111111,
             "#46039f"
            ],
            [
             0.2222222222222222,
             "#7201a8"
            ],
            [
             0.3333333333333333,
             "#9c179e"
            ],
            [
             0.4444444444444444,
             "#bd3786"
            ],
            [
             0.5555555555555556,
             "#d8576b"
            ],
            [
             0.6666666666666666,
             "#ed7953"
            ],
            [
             0.7777777777777778,
             "#fb9f3a"
            ],
            [
             0.8888888888888888,
             "#fdca26"
            ],
            [
             1,
             "#f0f921"
            ]
           ],
           "sequentialminus": [
            [
             0,
             "#0d0887"
            ],
            [
             0.1111111111111111,
             "#46039f"
            ],
            [
             0.2222222222222222,
             "#7201a8"
            ],
            [
             0.3333333333333333,
             "#9c179e"
            ],
            [
             0.4444444444444444,
             "#bd3786"
            ],
            [
             0.5555555555555556,
             "#d8576b"
            ],
            [
             0.6666666666666666,
             "#ed7953"
            ],
            [
             0.7777777777777778,
             "#fb9f3a"
            ],
            [
             0.8888888888888888,
             "#fdca26"
            ],
            [
             1,
             "#f0f921"
            ]
           ]
          },
          "colorway": [
           "#636efa",
           "#EF553B",
           "#00cc96",
           "#ab63fa",
           "#FFA15A",
           "#19d3f3",
           "#FF6692",
           "#B6E880",
           "#FF97FF",
           "#FECB52"
          ],
          "font": {
           "color": "#2a3f5f"
          },
          "geo": {
           "bgcolor": "white",
           "lakecolor": "white",
           "landcolor": "white",
           "showlakes": true,
           "showland": true,
           "subunitcolor": "#C8D4E3"
          },
          "hoverlabel": {
           "align": "left"
          },
          "hovermode": "closest",
          "mapbox": {
           "style": "light"
          },
          "paper_bgcolor": "white",
          "plot_bgcolor": "white",
          "polar": {
           "angularaxis": {
            "gridcolor": "#EBF0F8",
            "linecolor": "#EBF0F8",
            "ticks": ""
           },
           "bgcolor": "white",
           "radialaxis": {
            "gridcolor": "#EBF0F8",
            "linecolor": "#EBF0F8",
            "ticks": ""
           }
          },
          "scene": {
           "xaxis": {
            "backgroundcolor": "white",
            "gridcolor": "#DFE8F3",
            "gridwidth": 2,
            "linecolor": "#EBF0F8",
            "showbackground": true,
            "ticks": "",
            "zerolinecolor": "#EBF0F8"
           },
           "yaxis": {
            "backgroundcolor": "white",
            "gridcolor": "#DFE8F3",
            "gridwidth": 2,
            "linecolor": "#EBF0F8",
            "showbackground": true,
            "ticks": "",
            "zerolinecolor": "#EBF0F8"
           },
           "zaxis": {
            "backgroundcolor": "white",
            "gridcolor": "#DFE8F3",
            "gridwidth": 2,
            "linecolor": "#EBF0F8",
            "showbackground": true,
            "ticks": "",
            "zerolinecolor": "#EBF0F8"
           }
          },
          "shapedefaults": {
           "line": {
            "color": "#2a3f5f"
           }
          },
          "ternary": {
           "aaxis": {
            "gridcolor": "#DFE8F3",
            "linecolor": "#A2B1C6",
            "ticks": ""
           },
           "baxis": {
            "gridcolor": "#DFE8F3",
            "linecolor": "#A2B1C6",
            "ticks": ""
           },
           "bgcolor": "white",
           "caxis": {
            "gridcolor": "#DFE8F3",
            "linecolor": "#A2B1C6",
            "ticks": ""
           }
          },
          "title": {
           "x": 0.05
          },
          "xaxis": {
           "automargin": true,
           "gridcolor": "#EBF0F8",
           "linecolor": "#EBF0F8",
           "ticks": "",
           "title": {
            "standoff": 15
           },
           "zerolinecolor": "#EBF0F8",
           "zerolinewidth": 2
          },
          "yaxis": {
           "automargin": true,
           "gridcolor": "#EBF0F8",
           "linecolor": "#EBF0F8",
           "ticks": "",
           "title": {
            "standoff": 15
           },
           "zerolinecolor": "#EBF0F8",
           "zerolinewidth": 2
          }
         }
        },
        "title": {
         "text": "Gapminder 2007: 'plotly_white' theme"
        },
        "xaxis": {
         "anchor": "y",
         "domain": [
          0,
          1
         ],
         "title": {
          "text": "gdpPercap"
         },
         "type": "log"
        },
        "yaxis": {
         "anchor": "x",
         "domain": [
          0,
          1
         ],
         "title": {
          "text": "lifeExp"
         }
        }
       }
      }
     },
     "metadata": {},
     "output_type": "display_data"
    },
    {
     "data": {
      "application/vnd.plotly.v1+json": {
       "config": {
        "plotlyServerURL": "https://plotly.com"
       },
       "data": [
        {
         "hovertemplate": "continent=Asia<br>gdpPercap=%{x}<br>lifeExp=%{y}<br>pop=%{marker.size}<extra></extra>",
         "legendgroup": "Asia",
         "marker": {
          "color": "#636efa",
          "size": [
           31889923,
           708573,
           150448339,
           14131858,
           1318683096,
           6980412,
           1110396331,
           223547000,
           69453570,
           27499638,
           6426679,
           127467972,
           6053193,
           23301725,
           49044790,
           2505559,
           3921278,
           24821286,
           2874127,
           47761980,
           28901790,
           3204897,
           169270617,
           91077287,
           27601038,
           4553009,
           20378239,
           19314747,
           23174294,
           65068149,
           85262356,
           4018332,
           22211743
          ],
          "sizemode": "area",
          "sizeref": 366300.86,
          "symbol": "circle"
         },
         "mode": "markers",
         "name": "Asia",
         "orientation": "v",
         "showlegend": true,
         "type": "scatter",
         "x": [
          974.5803384,
          29796.04834,
          1391.253792,
          1713.778686,
          4959.114854,
          39724.97867,
          2452.210407,
          3540.651564,
          11605.71449,
          4471.061906,
          25523.2771,
          31656.06806,
          4519.461171,
          1593.06548,
          23348.139730000006,
          47306.98978,
          10461.05868,
          12451.6558,
          3095.7722710000007,
          944,
          1091.359778,
          22316.19287,
          2605.94758,
          3190.481016,
          21654.83194,
          47143.17964,
          3970.095407,
          4184.548089,
          28718.27684,
          7458.396326999998,
          2441.576404,
          3025.349798,
          2280.769906
         ],
         "xaxis": "x",
         "y": [
          43.828,
          75.635,
          64.062,
          59.723,
          72.961,
          82.208,
          64.69800000000001,
          70.65,
          70.964,
          59.545,
          80.745,
          82.603,
          72.535,
          67.297,
          78.623,
          77.58800000000002,
          71.993,
          74.241,
          66.803,
          62.069,
          63.785,
          75.64,
          65.483,
          71.688,
          72.777,
          79.972,
          72.396,
          74.143,
          78.4,
          70.616,
          74.249,
          73.422,
          62.698
         ],
         "yaxis": "y"
        },
        {
         "hovertemplate": "continent=Europe<br>gdpPercap=%{x}<br>lifeExp=%{y}<br>pop=%{marker.size}<extra></extra>",
         "legendgroup": "Europe",
         "marker": {
          "color": "#EF553B",
          "size": [
           3600523,
           8199783,
           10392226,
           4552198,
           7322858,
           4493312,
           10228744,
           5468120,
           5238460,
           61083916,
           82400996,
           10706290,
           9956108,
           301931,
           4109086,
           58147733,
           684736,
           16570613,
           4627926,
           38518241,
           10642836,
           22276056,
           10150265,
           5447502,
           2009245,
           40448191,
           9031088,
           7554661,
           71158647,
           60776238
          ],
          "sizemode": "area",
          "sizeref": 366300.86,
          "symbol": "circle"
         },
         "mode": "markers",
         "name": "Europe",
         "orientation": "v",
         "showlegend": true,
         "type": "scatter",
         "x": [
          5937.029525999998,
          36126.4927,
          33692.60508,
          7446.298803,
          10680.79282,
          14619.222719999998,
          22833.30851,
          35278.41874,
          33207.0844,
          30470.0167,
          32170.37442,
          27538.41188,
          18008.94444,
          36180.78919,
          40675.99635,
          28569.7197,
          9253.896111,
          36797.93332,
          49357.19017,
          15389.924680000002,
          20509.64777,
          10808.47561,
          9786.534714,
          18678.31435,
          25768.25759,
          28821.0637,
          33859.74835,
          37506.41907,
          8458.276384,
          33203.26128
         ],
         "xaxis": "x",
         "y": [
          76.423,
          79.829,
          79.441,
          74.852,
          73.005,
          75.748,
          76.486,
          78.332,
          79.313,
          80.657,
          79.406,
          79.483,
          73.33800000000002,
          81.757,
          78.885,
          80.546,
          74.543,
          79.762,
          80.196,
          75.563,
          78.098,
          72.476,
          74.002,
          74.663,
          77.926,
          80.941,
          80.884,
          81.70100000000002,
          71.777,
          79.425
         ],
         "yaxis": "y"
        },
        {
         "hovertemplate": "continent=Africa<br>gdpPercap=%{x}<br>lifeExp=%{y}<br>pop=%{marker.size}<extra></extra>",
         "legendgroup": "Africa",
         "marker": {
          "color": "#00cc96",
          "size": [
           33333216,
           12420476,
           8078314,
           1639131,
           14326203,
           8390505,
           17696293,
           4369038,
           10238807,
           710960,
           64606759,
           3800610,
           18013409,
           496374,
           80264543,
           551201,
           4906585,
           76511887,
           1454867,
           1688359,
           22873338,
           9947814,
           1472041,
           35610177,
           2012649,
           3193942,
           6036914,
           19167654,
           13327079,
           12031795,
           3270065,
           1250882,
           33757175,
           19951656,
           2055080,
           12894865,
           135031164,
           798094,
           8860588,
           199579,
           12267493,
           6144562,
           9118773,
           43997828,
           42292929,
           1133066,
           38139640,
           5701579,
           10276158,
           29170398,
           11746035,
           12311143
          ],
          "sizemode": "area",
          "sizeref": 366300.86,
          "symbol": "circle"
         },
         "mode": "markers",
         "name": "Africa",
         "orientation": "v",
         "showlegend": true,
         "type": "scatter",
         "x": [
          6223.367465,
          4797.231267,
          1441.284873,
          12569.85177,
          1217.032994,
          430.0706916,
          2042.09524,
          706.016537,
          1704.063724,
          986.1478792,
          277.5518587,
          3632.557798,
          1544.750112,
          2082.4815670000007,
          5581.180998,
          12154.08975,
          641.3695236000002,
          690.8055759,
          13206.48452,
          752.7497265,
          1327.60891,
          942.6542111,
          579.2317429999998,
          1463.249282,
          1569.331442,
          414.5073415,
          12057.49928,
          1044.770126,
          759.3499101,
          1042.581557,
          1803.151496,
          10956.99112,
          3820.17523,
          823.6856205,
          4811.060429,
          619.6768923999998,
          2013.977305,
          7670.122558,
          863.0884639000002,
          1598.435089,
          1712.472136,
          862.5407561000002,
          926.1410683,
          9269.657808,
          2602.394995,
          4513.480643,
          1107.482182,
          882.9699437999999,
          7092.923025,
          1056.380121,
          1271.211593,
          469.70929810000007
         ],
         "xaxis": "x",
         "y": [
          72.301,
          42.731,
          56.728,
          50.728,
          52.295,
          49.58,
          50.43,
          44.74100000000001,
          50.651,
          65.152,
          46.462,
          55.322,
          48.328,
          54.791,
          71.33800000000002,
          51.57899999999999,
          58.04,
          52.947,
          56.735,
          59.448,
          60.022,
          56.007,
          46.38800000000001,
          54.11,
          42.592,
          45.678,
          73.952,
          59.44300000000001,
          48.303,
          54.467,
          64.164,
          72.801,
          71.164,
          42.082,
          52.90600000000001,
          56.867,
          46.859,
          76.442,
          46.242,
          65.528,
          63.062,
          42.56800000000001,
          48.159,
          49.339,
          58.556,
          39.613,
          52.517,
          58.42,
          73.923,
          51.542,
          42.38399999999999,
          43.487
         ],
         "yaxis": "y"
        },
        {
         "hovertemplate": "continent=Americas<br>gdpPercap=%{x}<br>lifeExp=%{y}<br>pop=%{marker.size}<extra></extra>",
         "legendgroup": "Americas",
         "marker": {
          "color": "#ab63fa",
          "size": [
           40301927,
           9119152,
           190010647,
           33390141,
           16284741,
           44227550,
           4133884,
           11416987,
           9319622,
           13755680,
           6939688,
           12572928,
           8502814,
           7483763,
           2780132,
           108700891,
           5675356,
           3242173,
           6667147,
           28674757,
           3942491,
           1056608,
           301139947,
           3447496,
           26084662
          ],
          "sizemode": "area",
          "sizeref": 366300.86,
          "symbol": "circle"
         },
         "mode": "markers",
         "name": "Americas",
         "orientation": "v",
         "showlegend": true,
         "type": "scatter",
         "x": [
          12779.37964,
          3822.137084,
          9065.800825,
          36319.23501,
          13171.63885,
          7006.580419,
          9645.06142,
          8948.102923,
          6025.3747520000015,
          6873.262326000001,
          5728.353514,
          5186.050003,
          1201.637154,
          3548.3308460000007,
          7320.8802620000015,
          11977.57496,
          2749.320965,
          9809.185636,
          4172.838464,
          7408.905561,
          19328.70901,
          18008.50924,
          42951.65309,
          10611.46299,
          11415.80569
         ],
         "xaxis": "x",
         "y": [
          75.32,
          65.554,
          72.39,
          80.653,
          78.553,
          72.889,
          78.782,
          78.273,
          72.235,
          74.994,
          71.878,
          70.259,
          60.916,
          70.19800000000001,
          72.567,
          76.195,
          72.899,
          75.53699999999998,
          71.752,
          71.421,
          78.74600000000002,
          69.819,
          78.242,
          76.384,
          73.747
         ],
         "yaxis": "y"
        },
        {
         "hovertemplate": "continent=Oceania<br>gdpPercap=%{x}<br>lifeExp=%{y}<br>pop=%{marker.size}<extra></extra>",
         "legendgroup": "Oceania",
         "marker": {
          "color": "#FFA15A",
          "size": [
           20434176,
           4115771
          ],
          "sizemode": "area",
          "sizeref": 366300.86,
          "symbol": "circle"
         },
         "mode": "markers",
         "name": "Oceania",
         "orientation": "v",
         "showlegend": true,
         "type": "scatter",
         "x": [
          34435.367439999995,
          25185.00911
         ],
         "xaxis": "x",
         "y": [
          81.235,
          80.204
         ],
         "yaxis": "y"
        }
       ],
       "layout": {
        "legend": {
         "itemsizing": "constant",
         "title": {
          "text": "continent"
         },
         "tracegroupgap": 0
        },
        "template": {
         "data": {
          "bar": [
           {
            "error_x": {
             "color": "#f2f5fa"
            },
            "error_y": {
             "color": "#f2f5fa"
            },
            "marker": {
             "line": {
              "color": "rgb(17,17,17)",
              "width": 0.5
             },
             "pattern": {
              "fillmode": "overlay",
              "size": 10,
              "solidity": 0.2
             }
            },
            "type": "bar"
           }
          ],
          "barpolar": [
           {
            "marker": {
             "line": {
              "color": "rgb(17,17,17)",
              "width": 0.5
             },
             "pattern": {
              "fillmode": "overlay",
              "size": 10,
              "solidity": 0.2
             }
            },
            "type": "barpolar"
           }
          ],
          "carpet": [
           {
            "aaxis": {
             "endlinecolor": "#A2B1C6",
             "gridcolor": "#506784",
             "linecolor": "#506784",
             "minorgridcolor": "#506784",
             "startlinecolor": "#A2B1C6"
            },
            "baxis": {
             "endlinecolor": "#A2B1C6",
             "gridcolor": "#506784",
             "linecolor": "#506784",
             "minorgridcolor": "#506784",
             "startlinecolor": "#A2B1C6"
            },
            "type": "carpet"
           }
          ],
          "choropleth": [
           {
            "colorbar": {
             "outlinewidth": 0,
             "ticks": ""
            },
            "type": "choropleth"
           }
          ],
          "contour": [
           {
            "colorbar": {
             "outlinewidth": 0,
             "ticks": ""
            },
            "colorscale": [
             [
              0,
              "#0d0887"
             ],
             [
              0.1111111111111111,
              "#46039f"
             ],
             [
              0.2222222222222222,
              "#7201a8"
             ],
             [
              0.3333333333333333,
              "#9c179e"
             ],
             [
              0.4444444444444444,
              "#bd3786"
             ],
             [
              0.5555555555555556,
              "#d8576b"
             ],
             [
              0.6666666666666666,
              "#ed7953"
             ],
             [
              0.7777777777777778,
              "#fb9f3a"
             ],
             [
              0.8888888888888888,
              "#fdca26"
             ],
             [
              1,
              "#f0f921"
             ]
            ],
            "type": "contour"
           }
          ],
          "contourcarpet": [
           {
            "colorbar": {
             "outlinewidth": 0,
             "ticks": ""
            },
            "type": "contourcarpet"
           }
          ],
          "heatmap": [
           {
            "colorbar": {
             "outlinewidth": 0,
             "ticks": ""
            },
            "colorscale": [
             [
              0,
              "#0d0887"
             ],
             [
              0.1111111111111111,
              "#46039f"
             ],
             [
              0.2222222222222222,
              "#7201a8"
             ],
             [
              0.3333333333333333,
              "#9c179e"
             ],
             [
              0.4444444444444444,
              "#bd3786"
             ],
             [
              0.5555555555555556,
              "#d8576b"
             ],
             [
              0.6666666666666666,
              "#ed7953"
             ],
             [
              0.7777777777777778,
              "#fb9f3a"
             ],
             [
              0.8888888888888888,
              "#fdca26"
             ],
             [
              1,
              "#f0f921"
             ]
            ],
            "type": "heatmap"
           }
          ],
          "heatmapgl": [
           {
            "colorbar": {
             "outlinewidth": 0,
             "ticks": ""
            },
            "colorscale": [
             [
              0,
              "#0d0887"
             ],
             [
              0.1111111111111111,
              "#46039f"
             ],
             [
              0.2222222222222222,
              "#7201a8"
             ],
             [
              0.3333333333333333,
              "#9c179e"
             ],
             [
              0.4444444444444444,
              "#bd3786"
             ],
             [
              0.5555555555555556,
              "#d8576b"
             ],
             [
              0.6666666666666666,
              "#ed7953"
             ],
             [
              0.7777777777777778,
              "#fb9f3a"
             ],
             [
              0.8888888888888888,
              "#fdca26"
             ],
             [
              1,
              "#f0f921"
             ]
            ],
            "type": "heatmapgl"
           }
          ],
          "histogram": [
           {
            "marker": {
             "pattern": {
              "fillmode": "overlay",
              "size": 10,
              "solidity": 0.2
             }
            },
            "type": "histogram"
           }
          ],
          "histogram2d": [
           {
            "colorbar": {
             "outlinewidth": 0,
             "ticks": ""
            },
            "colorscale": [
             [
              0,
              "#0d0887"
             ],
             [
              0.1111111111111111,
              "#46039f"
             ],
             [
              0.2222222222222222,
              "#7201a8"
             ],
             [
              0.3333333333333333,
              "#9c179e"
             ],
             [
              0.4444444444444444,
              "#bd3786"
             ],
             [
              0.5555555555555556,
              "#d8576b"
             ],
             [
              0.6666666666666666,
              "#ed7953"
             ],
             [
              0.7777777777777778,
              "#fb9f3a"
             ],
             [
              0.8888888888888888,
              "#fdca26"
             ],
             [
              1,
              "#f0f921"
             ]
            ],
            "type": "histogram2d"
           }
          ],
          "histogram2dcontour": [
           {
            "colorbar": {
             "outlinewidth": 0,
             "ticks": ""
            },
            "colorscale": [
             [
              0,
              "#0d0887"
             ],
             [
              0.1111111111111111,
              "#46039f"
             ],
             [
              0.2222222222222222,
              "#7201a8"
             ],
             [
              0.3333333333333333,
              "#9c179e"
             ],
             [
              0.4444444444444444,
              "#bd3786"
             ],
             [
              0.5555555555555556,
              "#d8576b"
             ],
             [
              0.6666666666666666,
              "#ed7953"
             ],
             [
              0.7777777777777778,
              "#fb9f3a"
             ],
             [
              0.8888888888888888,
              "#fdca26"
             ],
             [
              1,
              "#f0f921"
             ]
            ],
            "type": "histogram2dcontour"
           }
          ],
          "mesh3d": [
           {
            "colorbar": {
             "outlinewidth": 0,
             "ticks": ""
            },
            "type": "mesh3d"
           }
          ],
          "parcoords": [
           {
            "line": {
             "colorbar": {
              "outlinewidth": 0,
              "ticks": ""
             }
            },
            "type": "parcoords"
           }
          ],
          "pie": [
           {
            "automargin": true,
            "type": "pie"
           }
          ],
          "scatter": [
           {
            "marker": {
             "line": {
              "color": "#283442"
             }
            },
            "type": "scatter"
           }
          ],
          "scatter3d": [
           {
            "line": {
             "colorbar": {
              "outlinewidth": 0,
              "ticks": ""
             }
            },
            "marker": {
             "colorbar": {
              "outlinewidth": 0,
              "ticks": ""
             }
            },
            "type": "scatter3d"
           }
          ],
          "scattercarpet": [
           {
            "marker": {
             "colorbar": {
              "outlinewidth": 0,
              "ticks": ""
             }
            },
            "type": "scattercarpet"
           }
          ],
          "scattergeo": [
           {
            "marker": {
             "colorbar": {
              "outlinewidth": 0,
              "ticks": ""
             }
            },
            "type": "scattergeo"
           }
          ],
          "scattergl": [
           {
            "marker": {
             "line": {
              "color": "#283442"
             }
            },
            "type": "scattergl"
           }
          ],
          "scattermapbox": [
           {
            "marker": {
             "colorbar": {
              "outlinewidth": 0,
              "ticks": ""
             }
            },
            "type": "scattermapbox"
           }
          ],
          "scatterpolar": [
           {
            "marker": {
             "colorbar": {
              "outlinewidth": 0,
              "ticks": ""
             }
            },
            "type": "scatterpolar"
           }
          ],
          "scatterpolargl": [
           {
            "marker": {
             "colorbar": {
              "outlinewidth": 0,
              "ticks": ""
             }
            },
            "type": "scatterpolargl"
           }
          ],
          "scatterternary": [
           {
            "marker": {
             "colorbar": {
              "outlinewidth": 0,
              "ticks": ""
             }
            },
            "type": "scatterternary"
           }
          ],
          "surface": [
           {
            "colorbar": {
             "outlinewidth": 0,
             "ticks": ""
            },
            "colorscale": [
             [
              0,
              "#0d0887"
             ],
             [
              0.1111111111111111,
              "#46039f"
             ],
             [
              0.2222222222222222,
              "#7201a8"
             ],
             [
              0.3333333333333333,
              "#9c179e"
             ],
             [
              0.4444444444444444,
              "#bd3786"
             ],
             [
              0.5555555555555556,
              "#d8576b"
             ],
             [
              0.6666666666666666,
              "#ed7953"
             ],
             [
              0.7777777777777778,
              "#fb9f3a"
             ],
             [
              0.8888888888888888,
              "#fdca26"
             ],
             [
              1,
              "#f0f921"
             ]
            ],
            "type": "surface"
           }
          ],
          "table": [
           {
            "cells": {
             "fill": {
              "color": "#506784"
             },
             "line": {
              "color": "rgb(17,17,17)"
             }
            },
            "header": {
             "fill": {
              "color": "#2a3f5f"
             },
             "line": {
              "color": "rgb(17,17,17)"
             }
            },
            "type": "table"
           }
          ]
         },
         "layout": {
          "annotationdefaults": {
           "arrowcolor": "#f2f5fa",
           "arrowhead": 0,
           "arrowwidth": 1
          },
          "autotypenumbers": "strict",
          "coloraxis": {
           "colorbar": {
            "outlinewidth": 0,
            "ticks": ""
           }
          },
          "colorscale": {
           "diverging": [
            [
             0,
             "#8e0152"
            ],
            [
             0.1,
             "#c51b7d"
            ],
            [
             0.2,
             "#de77ae"
            ],
            [
             0.3,
             "#f1b6da"
            ],
            [
             0.4,
             "#fde0ef"
            ],
            [
             0.5,
             "#f7f7f7"
            ],
            [
             0.6,
             "#e6f5d0"
            ],
            [
             0.7,
             "#b8e186"
            ],
            [
             0.8,
             "#7fbc41"
            ],
            [
             0.9,
             "#4d9221"
            ],
            [
             1,
             "#276419"
            ]
           ],
           "sequential": [
            [
             0,
             "#0d0887"
            ],
            [
             0.1111111111111111,
             "#46039f"
            ],
            [
             0.2222222222222222,
             "#7201a8"
            ],
            [
             0.3333333333333333,
             "#9c179e"
            ],
            [
             0.4444444444444444,
             "#bd3786"
            ],
            [
             0.5555555555555556,
             "#d8576b"
            ],
            [
             0.6666666666666666,
             "#ed7953"
            ],
            [
             0.7777777777777778,
             "#fb9f3a"
            ],
            [
             0.8888888888888888,
             "#fdca26"
            ],
            [
             1,
             "#f0f921"
            ]
           ],
           "sequentialminus": [
            [
             0,
             "#0d0887"
            ],
            [
             0.1111111111111111,
             "#46039f"
            ],
            [
             0.2222222222222222,
             "#7201a8"
            ],
            [
             0.3333333333333333,
             "#9c179e"
            ],
            [
             0.4444444444444444,
             "#bd3786"
            ],
            [
             0.5555555555555556,
             "#d8576b"
            ],
            [
             0.6666666666666666,
             "#ed7953"
            ],
            [
             0.7777777777777778,
             "#fb9f3a"
            ],
            [
             0.8888888888888888,
             "#fdca26"
            ],
            [
             1,
             "#f0f921"
            ]
           ]
          },
          "colorway": [
           "#636efa",
           "#EF553B",
           "#00cc96",
           "#ab63fa",
           "#FFA15A",
           "#19d3f3",
           "#FF6692",
           "#B6E880",
           "#FF97FF",
           "#FECB52"
          ],
          "font": {
           "color": "#f2f5fa"
          },
          "geo": {
           "bgcolor": "rgb(17,17,17)",
           "lakecolor": "rgb(17,17,17)",
           "landcolor": "rgb(17,17,17)",
           "showlakes": true,
           "showland": true,
           "subunitcolor": "#506784"
          },
          "hoverlabel": {
           "align": "left"
          },
          "hovermode": "closest",
          "mapbox": {
           "style": "dark"
          },
          "paper_bgcolor": "rgb(17,17,17)",
          "plot_bgcolor": "rgb(17,17,17)",
          "polar": {
           "angularaxis": {
            "gridcolor": "#506784",
            "linecolor": "#506784",
            "ticks": ""
           },
           "bgcolor": "rgb(17,17,17)",
           "radialaxis": {
            "gridcolor": "#506784",
            "linecolor": "#506784",
            "ticks": ""
           }
          },
          "scene": {
           "xaxis": {
            "backgroundcolor": "rgb(17,17,17)",
            "gridcolor": "#506784",
            "gridwidth": 2,
            "linecolor": "#506784",
            "showbackground": true,
            "ticks": "",
            "zerolinecolor": "#C8D4E3"
           },
           "yaxis": {
            "backgroundcolor": "rgb(17,17,17)",
            "gridcolor": "#506784",
            "gridwidth": 2,
            "linecolor": "#506784",
            "showbackground": true,
            "ticks": "",
            "zerolinecolor": "#C8D4E3"
           },
           "zaxis": {
            "backgroundcolor": "rgb(17,17,17)",
            "gridcolor": "#506784",
            "gridwidth": 2,
            "linecolor": "#506784",
            "showbackground": true,
            "ticks": "",
            "zerolinecolor": "#C8D4E3"
           }
          },
          "shapedefaults": {
           "line": {
            "color": "#f2f5fa"
           }
          },
          "sliderdefaults": {
           "bgcolor": "#C8D4E3",
           "bordercolor": "rgb(17,17,17)",
           "borderwidth": 1,
           "tickwidth": 0
          },
          "ternary": {
           "aaxis": {
            "gridcolor": "#506784",
            "linecolor": "#506784",
            "ticks": ""
           },
           "baxis": {
            "gridcolor": "#506784",
            "linecolor": "#506784",
            "ticks": ""
           },
           "bgcolor": "rgb(17,17,17)",
           "caxis": {
            "gridcolor": "#506784",
            "linecolor": "#506784",
            "ticks": ""
           }
          },
          "title": {
           "x": 0.05
          },
          "updatemenudefaults": {
           "bgcolor": "#506784",
           "borderwidth": 0
          },
          "xaxis": {
           "automargin": true,
           "gridcolor": "#283442",
           "linecolor": "#506784",
           "ticks": "",
           "title": {
            "standoff": 15
           },
           "zerolinecolor": "#283442",
           "zerolinewidth": 2
          },
          "yaxis": {
           "automargin": true,
           "gridcolor": "#283442",
           "linecolor": "#506784",
           "ticks": "",
           "title": {
            "standoff": 15
           },
           "zerolinecolor": "#283442",
           "zerolinewidth": 2
          }
         }
        },
        "title": {
         "text": "Gapminder 2007: 'plotly_dark' theme"
        },
        "xaxis": {
         "anchor": "y",
         "domain": [
          0,
          1
         ],
         "title": {
          "text": "gdpPercap"
         },
         "type": "log"
        },
        "yaxis": {
         "anchor": "x",
         "domain": [
          0,
          1
         ],
         "title": {
          "text": "lifeExp"
         }
        }
       }
      }
     },
     "metadata": {},
     "output_type": "display_data"
    },
    {
     "data": {
      "application/vnd.plotly.v1+json": {
       "config": {
        "plotlyServerURL": "https://plotly.com"
       },
       "data": [
        {
         "hovertemplate": "continent=Asia<br>gdpPercap=%{x}<br>lifeExp=%{y}<br>pop=%{marker.size}<extra></extra>",
         "legendgroup": "Asia",
         "marker": {
          "color": "#F8766D",
          "size": [
           31889923,
           708573,
           150448339,
           14131858,
           1318683096,
           6980412,
           1110396331,
           223547000,
           69453570,
           27499638,
           6426679,
           127467972,
           6053193,
           23301725,
           49044790,
           2505559,
           3921278,
           24821286,
           2874127,
           47761980,
           28901790,
           3204897,
           169270617,
           91077287,
           27601038,
           4553009,
           20378239,
           19314747,
           23174294,
           65068149,
           85262356,
           4018332,
           22211743
          ],
          "sizemode": "area",
          "sizeref": 366300.86,
          "symbol": "circle"
         },
         "mode": "markers",
         "name": "Asia",
         "orientation": "v",
         "showlegend": true,
         "type": "scatter",
         "x": [
          974.5803384,
          29796.04834,
          1391.253792,
          1713.778686,
          4959.114854,
          39724.97867,
          2452.210407,
          3540.651564,
          11605.71449,
          4471.061906,
          25523.2771,
          31656.06806,
          4519.461171,
          1593.06548,
          23348.139730000006,
          47306.98978,
          10461.05868,
          12451.6558,
          3095.7722710000007,
          944,
          1091.359778,
          22316.19287,
          2605.94758,
          3190.481016,
          21654.83194,
          47143.17964,
          3970.095407,
          4184.548089,
          28718.27684,
          7458.396326999998,
          2441.576404,
          3025.349798,
          2280.769906
         ],
         "xaxis": "x",
         "y": [
          43.828,
          75.635,
          64.062,
          59.723,
          72.961,
          82.208,
          64.69800000000001,
          70.65,
          70.964,
          59.545,
          80.745,
          82.603,
          72.535,
          67.297,
          78.623,
          77.58800000000002,
          71.993,
          74.241,
          66.803,
          62.069,
          63.785,
          75.64,
          65.483,
          71.688,
          72.777,
          79.972,
          72.396,
          74.143,
          78.4,
          70.616,
          74.249,
          73.422,
          62.698
         ],
         "yaxis": "y"
        },
        {
         "hovertemplate": "continent=Europe<br>gdpPercap=%{x}<br>lifeExp=%{y}<br>pop=%{marker.size}<extra></extra>",
         "legendgroup": "Europe",
         "marker": {
          "color": "#A3A500",
          "size": [
           3600523,
           8199783,
           10392226,
           4552198,
           7322858,
           4493312,
           10228744,
           5468120,
           5238460,
           61083916,
           82400996,
           10706290,
           9956108,
           301931,
           4109086,
           58147733,
           684736,
           16570613,
           4627926,
           38518241,
           10642836,
           22276056,
           10150265,
           5447502,
           2009245,
           40448191,
           9031088,
           7554661,
           71158647,
           60776238
          ],
          "sizemode": "area",
          "sizeref": 366300.86,
          "symbol": "circle"
         },
         "mode": "markers",
         "name": "Europe",
         "orientation": "v",
         "showlegend": true,
         "type": "scatter",
         "x": [
          5937.029525999998,
          36126.4927,
          33692.60508,
          7446.298803,
          10680.79282,
          14619.222719999998,
          22833.30851,
          35278.41874,
          33207.0844,
          30470.0167,
          32170.37442,
          27538.41188,
          18008.94444,
          36180.78919,
          40675.99635,
          28569.7197,
          9253.896111,
          36797.93332,
          49357.19017,
          15389.924680000002,
          20509.64777,
          10808.47561,
          9786.534714,
          18678.31435,
          25768.25759,
          28821.0637,
          33859.74835,
          37506.41907,
          8458.276384,
          33203.26128
         ],
         "xaxis": "x",
         "y": [
          76.423,
          79.829,
          79.441,
          74.852,
          73.005,
          75.748,
          76.486,
          78.332,
          79.313,
          80.657,
          79.406,
          79.483,
          73.33800000000002,
          81.757,
          78.885,
          80.546,
          74.543,
          79.762,
          80.196,
          75.563,
          78.098,
          72.476,
          74.002,
          74.663,
          77.926,
          80.941,
          80.884,
          81.70100000000002,
          71.777,
          79.425
         ],
         "yaxis": "y"
        },
        {
         "hovertemplate": "continent=Africa<br>gdpPercap=%{x}<br>lifeExp=%{y}<br>pop=%{marker.size}<extra></extra>",
         "legendgroup": "Africa",
         "marker": {
          "color": "#00BF7D",
          "size": [
           33333216,
           12420476,
           8078314,
           1639131,
           14326203,
           8390505,
           17696293,
           4369038,
           10238807,
           710960,
           64606759,
           3800610,
           18013409,
           496374,
           80264543,
           551201,
           4906585,
           76511887,
           1454867,
           1688359,
           22873338,
           9947814,
           1472041,
           35610177,
           2012649,
           3193942,
           6036914,
           19167654,
           13327079,
           12031795,
           3270065,
           1250882,
           33757175,
           19951656,
           2055080,
           12894865,
           135031164,
           798094,
           8860588,
           199579,
           12267493,
           6144562,
           9118773,
           43997828,
           42292929,
           1133066,
           38139640,
           5701579,
           10276158,
           29170398,
           11746035,
           12311143
          ],
          "sizemode": "area",
          "sizeref": 366300.86,
          "symbol": "circle"
         },
         "mode": "markers",
         "name": "Africa",
         "orientation": "v",
         "showlegend": true,
         "type": "scatter",
         "x": [
          6223.367465,
          4797.231267,
          1441.284873,
          12569.85177,
          1217.032994,
          430.0706916,
          2042.09524,
          706.016537,
          1704.063724,
          986.1478792,
          277.5518587,
          3632.557798,
          1544.750112,
          2082.4815670000007,
          5581.180998,
          12154.08975,
          641.3695236000002,
          690.8055759,
          13206.48452,
          752.7497265,
          1327.60891,
          942.6542111,
          579.2317429999998,
          1463.249282,
          1569.331442,
          414.5073415,
          12057.49928,
          1044.770126,
          759.3499101,
          1042.581557,
          1803.151496,
          10956.99112,
          3820.17523,
          823.6856205,
          4811.060429,
          619.6768923999998,
          2013.977305,
          7670.122558,
          863.0884639000002,
          1598.435089,
          1712.472136,
          862.5407561000002,
          926.1410683,
          9269.657808,
          2602.394995,
          4513.480643,
          1107.482182,
          882.9699437999999,
          7092.923025,
          1056.380121,
          1271.211593,
          469.70929810000007
         ],
         "xaxis": "x",
         "y": [
          72.301,
          42.731,
          56.728,
          50.728,
          52.295,
          49.58,
          50.43,
          44.74100000000001,
          50.651,
          65.152,
          46.462,
          55.322,
          48.328,
          54.791,
          71.33800000000002,
          51.57899999999999,
          58.04,
          52.947,
          56.735,
          59.448,
          60.022,
          56.007,
          46.38800000000001,
          54.11,
          42.592,
          45.678,
          73.952,
          59.44300000000001,
          48.303,
          54.467,
          64.164,
          72.801,
          71.164,
          42.082,
          52.90600000000001,
          56.867,
          46.859,
          76.442,
          46.242,
          65.528,
          63.062,
          42.56800000000001,
          48.159,
          49.339,
          58.556,
          39.613,
          52.517,
          58.42,
          73.923,
          51.542,
          42.38399999999999,
          43.487
         ],
         "yaxis": "y"
        },
        {
         "hovertemplate": "continent=Americas<br>gdpPercap=%{x}<br>lifeExp=%{y}<br>pop=%{marker.size}<extra></extra>",
         "legendgroup": "Americas",
         "marker": {
          "color": "#00B0F6",
          "size": [
           40301927,
           9119152,
           190010647,
           33390141,
           16284741,
           44227550,
           4133884,
           11416987,
           9319622,
           13755680,
           6939688,
           12572928,
           8502814,
           7483763,
           2780132,
           108700891,
           5675356,
           3242173,
           6667147,
           28674757,
           3942491,
           1056608,
           301139947,
           3447496,
           26084662
          ],
          "sizemode": "area",
          "sizeref": 366300.86,
          "symbol": "circle"
         },
         "mode": "markers",
         "name": "Americas",
         "orientation": "v",
         "showlegend": true,
         "type": "scatter",
         "x": [
          12779.37964,
          3822.137084,
          9065.800825,
          36319.23501,
          13171.63885,
          7006.580419,
          9645.06142,
          8948.102923,
          6025.3747520000015,
          6873.262326000001,
          5728.353514,
          5186.050003,
          1201.637154,
          3548.3308460000007,
          7320.8802620000015,
          11977.57496,
          2749.320965,
          9809.185636,
          4172.838464,
          7408.905561,
          19328.70901,
          18008.50924,
          42951.65309,
          10611.46299,
          11415.80569
         ],
         "xaxis": "x",
         "y": [
          75.32,
          65.554,
          72.39,
          80.653,
          78.553,
          72.889,
          78.782,
          78.273,
          72.235,
          74.994,
          71.878,
          70.259,
          60.916,
          70.19800000000001,
          72.567,
          76.195,
          72.899,
          75.53699999999998,
          71.752,
          71.421,
          78.74600000000002,
          69.819,
          78.242,
          76.384,
          73.747
         ],
         "yaxis": "y"
        },
        {
         "hovertemplate": "continent=Oceania<br>gdpPercap=%{x}<br>lifeExp=%{y}<br>pop=%{marker.size}<extra></extra>",
         "legendgroup": "Oceania",
         "marker": {
          "color": "#E76BF3",
          "size": [
           20434176,
           4115771
          ],
          "sizemode": "area",
          "sizeref": 366300.86,
          "symbol": "circle"
         },
         "mode": "markers",
         "name": "Oceania",
         "orientation": "v",
         "showlegend": true,
         "type": "scatter",
         "x": [
          34435.367439999995,
          25185.00911
         ],
         "xaxis": "x",
         "y": [
          81.235,
          80.204
         ],
         "yaxis": "y"
        }
       ],
       "layout": {
        "legend": {
         "itemsizing": "constant",
         "title": {
          "text": "continent"
         },
         "tracegroupgap": 0
        },
        "template": {
         "data": {
          "bar": [
           {
            "error_x": {
             "color": "rgb(51,51,51)"
            },
            "error_y": {
             "color": "rgb(51,51,51)"
            },
            "marker": {
             "line": {
              "color": "rgb(237,237,237)",
              "width": 0.5
             },
             "pattern": {
              "fillmode": "overlay",
              "size": 10,
              "solidity": 0.2
             }
            },
            "type": "bar"
           }
          ],
          "barpolar": [
           {
            "marker": {
             "line": {
              "color": "rgb(237,237,237)",
              "width": 0.5
             },
             "pattern": {
              "fillmode": "overlay",
              "size": 10,
              "solidity": 0.2
             }
            },
            "type": "barpolar"
           }
          ],
          "carpet": [
           {
            "aaxis": {
             "endlinecolor": "rgb(51,51,51)",
             "gridcolor": "white",
             "linecolor": "white",
             "minorgridcolor": "white",
             "startlinecolor": "rgb(51,51,51)"
            },
            "baxis": {
             "endlinecolor": "rgb(51,51,51)",
             "gridcolor": "white",
             "linecolor": "white",
             "minorgridcolor": "white",
             "startlinecolor": "rgb(51,51,51)"
            },
            "type": "carpet"
           }
          ],
          "choropleth": [
           {
            "colorbar": {
             "outlinewidth": 0,
             "tickcolor": "rgb(237,237,237)",
             "ticklen": 6,
             "ticks": "inside"
            },
            "type": "choropleth"
           }
          ],
          "contour": [
           {
            "colorbar": {
             "outlinewidth": 0,
             "tickcolor": "rgb(237,237,237)",
             "ticklen": 6,
             "ticks": "inside"
            },
            "colorscale": [
             [
              0,
              "rgb(20,44,66)"
             ],
             [
              1,
              "rgb(90,179,244)"
             ]
            ],
            "type": "contour"
           }
          ],
          "contourcarpet": [
           {
            "colorbar": {
             "outlinewidth": 0,
             "tickcolor": "rgb(237,237,237)",
             "ticklen": 6,
             "ticks": "inside"
            },
            "type": "contourcarpet"
           }
          ],
          "heatmap": [
           {
            "colorbar": {
             "outlinewidth": 0,
             "tickcolor": "rgb(237,237,237)",
             "ticklen": 6,
             "ticks": "inside"
            },
            "colorscale": [
             [
              0,
              "rgb(20,44,66)"
             ],
             [
              1,
              "rgb(90,179,244)"
             ]
            ],
            "type": "heatmap"
           }
          ],
          "heatmapgl": [
           {
            "colorbar": {
             "outlinewidth": 0,
             "tickcolor": "rgb(237,237,237)",
             "ticklen": 6,
             "ticks": "inside"
            },
            "colorscale": [
             [
              0,
              "rgb(20,44,66)"
             ],
             [
              1,
              "rgb(90,179,244)"
             ]
            ],
            "type": "heatmapgl"
           }
          ],
          "histogram": [
           {
            "marker": {
             "pattern": {
              "fillmode": "overlay",
              "size": 10,
              "solidity": 0.2
             }
            },
            "type": "histogram"
           }
          ],
          "histogram2d": [
           {
            "colorbar": {
             "outlinewidth": 0,
             "tickcolor": "rgb(237,237,237)",
             "ticklen": 6,
             "ticks": "inside"
            },
            "colorscale": [
             [
              0,
              "rgb(20,44,66)"
             ],
             [
              1,
              "rgb(90,179,244)"
             ]
            ],
            "type": "histogram2d"
           }
          ],
          "histogram2dcontour": [
           {
            "colorbar": {
             "outlinewidth": 0,
             "tickcolor": "rgb(237,237,237)",
             "ticklen": 6,
             "ticks": "inside"
            },
            "colorscale": [
             [
              0,
              "rgb(20,44,66)"
             ],
             [
              1,
              "rgb(90,179,244)"
             ]
            ],
            "type": "histogram2dcontour"
           }
          ],
          "mesh3d": [
           {
            "colorbar": {
             "outlinewidth": 0,
             "tickcolor": "rgb(237,237,237)",
             "ticklen": 6,
             "ticks": "inside"
            },
            "type": "mesh3d"
           }
          ],
          "parcoords": [
           {
            "line": {
             "colorbar": {
              "outlinewidth": 0,
              "tickcolor": "rgb(237,237,237)",
              "ticklen": 6,
              "ticks": "inside"
             }
            },
            "type": "parcoords"
           }
          ],
          "pie": [
           {
            "automargin": true,
            "type": "pie"
           }
          ],
          "scatter": [
           {
            "fillpattern": {
             "fillmode": "overlay",
             "size": 10,
             "solidity": 0.2
            },
            "type": "scatter"
           }
          ],
          "scatter3d": [
           {
            "line": {
             "colorbar": {
              "outlinewidth": 0,
              "tickcolor": "rgb(237,237,237)",
              "ticklen": 6,
              "ticks": "inside"
             }
            },
            "marker": {
             "colorbar": {
              "outlinewidth": 0,
              "tickcolor": "rgb(237,237,237)",
              "ticklen": 6,
              "ticks": "inside"
             }
            },
            "type": "scatter3d"
           }
          ],
          "scattercarpet": [
           {
            "marker": {
             "colorbar": {
              "outlinewidth": 0,
              "tickcolor": "rgb(237,237,237)",
              "ticklen": 6,
              "ticks": "inside"
             }
            },
            "type": "scattercarpet"
           }
          ],
          "scattergeo": [
           {
            "marker": {
             "colorbar": {
              "outlinewidth": 0,
              "tickcolor": "rgb(237,237,237)",
              "ticklen": 6,
              "ticks": "inside"
             }
            },
            "type": "scattergeo"
           }
          ],
          "scattergl": [
           {
            "marker": {
             "colorbar": {
              "outlinewidth": 0,
              "tickcolor": "rgb(237,237,237)",
              "ticklen": 6,
              "ticks": "inside"
             }
            },
            "type": "scattergl"
           }
          ],
          "scattermapbox": [
           {
            "marker": {
             "colorbar": {
              "outlinewidth": 0,
              "tickcolor": "rgb(237,237,237)",
              "ticklen": 6,
              "ticks": "inside"
             }
            },
            "type": "scattermapbox"
           }
          ],
          "scatterpolar": [
           {
            "marker": {
             "colorbar": {
              "outlinewidth": 0,
              "tickcolor": "rgb(237,237,237)",
              "ticklen": 6,
              "ticks": "inside"
             }
            },
            "type": "scatterpolar"
           }
          ],
          "scatterpolargl": [
           {
            "marker": {
             "colorbar": {
              "outlinewidth": 0,
              "tickcolor": "rgb(237,237,237)",
              "ticklen": 6,
              "ticks": "inside"
             }
            },
            "type": "scatterpolargl"
           }
          ],
          "scatterternary": [
           {
            "marker": {
             "colorbar": {
              "outlinewidth": 0,
              "tickcolor": "rgb(237,237,237)",
              "ticklen": 6,
              "ticks": "inside"
             }
            },
            "type": "scatterternary"
           }
          ],
          "surface": [
           {
            "colorbar": {
             "outlinewidth": 0,
             "tickcolor": "rgb(237,237,237)",
             "ticklen": 6,
             "ticks": "inside"
            },
            "colorscale": [
             [
              0,
              "rgb(20,44,66)"
             ],
             [
              1,
              "rgb(90,179,244)"
             ]
            ],
            "type": "surface"
           }
          ],
          "table": [
           {
            "cells": {
             "fill": {
              "color": "rgb(237,237,237)"
             },
             "line": {
              "color": "white"
             }
            },
            "header": {
             "fill": {
              "color": "rgb(217,217,217)"
             },
             "line": {
              "color": "white"
             }
            },
            "type": "table"
           }
          ]
         },
         "layout": {
          "annotationdefaults": {
           "arrowhead": 0,
           "arrowwidth": 1
          },
          "autotypenumbers": "strict",
          "coloraxis": {
           "colorbar": {
            "outlinewidth": 0,
            "tickcolor": "rgb(237,237,237)",
            "ticklen": 6,
            "ticks": "inside"
           }
          },
          "colorscale": {
           "sequential": [
            [
             0,
             "rgb(20,44,66)"
            ],
            [
             1,
             "rgb(90,179,244)"
            ]
           ],
           "sequentialminus": [
            [
             0,
             "rgb(20,44,66)"
            ],
            [
             1,
             "rgb(90,179,244)"
            ]
           ]
          },
          "colorway": [
           "#F8766D",
           "#A3A500",
           "#00BF7D",
           "#00B0F6",
           "#E76BF3"
          ],
          "font": {
           "color": "rgb(51,51,51)"
          },
          "geo": {
           "bgcolor": "white",
           "lakecolor": "white",
           "landcolor": "rgb(237,237,237)",
           "showlakes": true,
           "showland": true,
           "subunitcolor": "white"
          },
          "hoverlabel": {
           "align": "left"
          },
          "hovermode": "closest",
          "paper_bgcolor": "white",
          "plot_bgcolor": "rgb(237,237,237)",
          "polar": {
           "angularaxis": {
            "gridcolor": "white",
            "linecolor": "white",
            "showgrid": true,
            "tickcolor": "rgb(51,51,51)",
            "ticks": "outside"
           },
           "bgcolor": "rgb(237,237,237)",
           "radialaxis": {
            "gridcolor": "white",
            "linecolor": "white",
            "showgrid": true,
            "tickcolor": "rgb(51,51,51)",
            "ticks": "outside"
           }
          },
          "scene": {
           "xaxis": {
            "backgroundcolor": "rgb(237,237,237)",
            "gridcolor": "white",
            "gridwidth": 2,
            "linecolor": "white",
            "showbackground": true,
            "showgrid": true,
            "tickcolor": "rgb(51,51,51)",
            "ticks": "outside",
            "zerolinecolor": "white"
           },
           "yaxis": {
            "backgroundcolor": "rgb(237,237,237)",
            "gridcolor": "white",
            "gridwidth": 2,
            "linecolor": "white",
            "showbackground": true,
            "showgrid": true,
            "tickcolor": "rgb(51,51,51)",
            "ticks": "outside",
            "zerolinecolor": "white"
           },
           "zaxis": {
            "backgroundcolor": "rgb(237,237,237)",
            "gridcolor": "white",
            "gridwidth": 2,
            "linecolor": "white",
            "showbackground": true,
            "showgrid": true,
            "tickcolor": "rgb(51,51,51)",
            "ticks": "outside",
            "zerolinecolor": "white"
           }
          },
          "shapedefaults": {
           "fillcolor": "black",
           "line": {
            "width": 0
           },
           "opacity": 0.3
          },
          "ternary": {
           "aaxis": {
            "gridcolor": "white",
            "linecolor": "white",
            "showgrid": true,
            "tickcolor": "rgb(51,51,51)",
            "ticks": "outside"
           },
           "baxis": {
            "gridcolor": "white",
            "linecolor": "white",
            "showgrid": true,
            "tickcolor": "rgb(51,51,51)",
            "ticks": "outside"
           },
           "bgcolor": "rgb(237,237,237)",
           "caxis": {
            "gridcolor": "white",
            "linecolor": "white",
            "showgrid": true,
            "tickcolor": "rgb(51,51,51)",
            "ticks": "outside"
           }
          },
          "xaxis": {
           "automargin": true,
           "gridcolor": "white",
           "linecolor": "white",
           "showgrid": true,
           "tickcolor": "rgb(51,51,51)",
           "ticks": "outside",
           "title": {
            "standoff": 15
           },
           "zerolinecolor": "white"
          },
          "yaxis": {
           "automargin": true,
           "gridcolor": "white",
           "linecolor": "white",
           "showgrid": true,
           "tickcolor": "rgb(51,51,51)",
           "ticks": "outside",
           "title": {
            "standoff": 15
           },
           "zerolinecolor": "white"
          }
         }
        },
        "title": {
         "text": "Gapminder 2007: 'ggplot2' theme"
        },
        "xaxis": {
         "anchor": "y",
         "domain": [
          0,
          1
         ],
         "title": {
          "text": "gdpPercap"
         },
         "type": "log"
        },
        "yaxis": {
         "anchor": "x",
         "domain": [
          0,
          1
         ],
         "title": {
          "text": "lifeExp"
         }
        }
       }
      }
     },
     "metadata": {},
     "output_type": "display_data"
    },
    {
     "data": {
      "application/vnd.plotly.v1+json": {
       "config": {
        "plotlyServerURL": "https://plotly.com"
       },
       "data": [
        {
         "hovertemplate": "continent=Asia<br>gdpPercap=%{x}<br>lifeExp=%{y}<br>pop=%{marker.size}<extra></extra>",
         "legendgroup": "Asia",
         "marker": {
          "color": "rgb(76,114,176)",
          "size": [
           31889923,
           708573,
           150448339,
           14131858,
           1318683096,
           6980412,
           1110396331,
           223547000,
           69453570,
           27499638,
           6426679,
           127467972,
           6053193,
           23301725,
           49044790,
           2505559,
           3921278,
           24821286,
           2874127,
           47761980,
           28901790,
           3204897,
           169270617,
           91077287,
           27601038,
           4553009,
           20378239,
           19314747,
           23174294,
           65068149,
           85262356,
           4018332,
           22211743
          ],
          "sizemode": "area",
          "sizeref": 366300.86,
          "symbol": "circle"
         },
         "mode": "markers",
         "name": "Asia",
         "orientation": "v",
         "showlegend": true,
         "type": "scatter",
         "x": [
          974.5803384,
          29796.04834,
          1391.253792,
          1713.778686,
          4959.114854,
          39724.97867,
          2452.210407,
          3540.651564,
          11605.71449,
          4471.061906,
          25523.2771,
          31656.06806,
          4519.461171,
          1593.06548,
          23348.139730000006,
          47306.98978,
          10461.05868,
          12451.6558,
          3095.7722710000007,
          944,
          1091.359778,
          22316.19287,
          2605.94758,
          3190.481016,
          21654.83194,
          47143.17964,
          3970.095407,
          4184.548089,
          28718.27684,
          7458.396326999998,
          2441.576404,
          3025.349798,
          2280.769906
         ],
         "xaxis": "x",
         "y": [
          43.828,
          75.635,
          64.062,
          59.723,
          72.961,
          82.208,
          64.69800000000001,
          70.65,
          70.964,
          59.545,
          80.745,
          82.603,
          72.535,
          67.297,
          78.623,
          77.58800000000002,
          71.993,
          74.241,
          66.803,
          62.069,
          63.785,
          75.64,
          65.483,
          71.688,
          72.777,
          79.972,
          72.396,
          74.143,
          78.4,
          70.616,
          74.249,
          73.422,
          62.698
         ],
         "yaxis": "y"
        },
        {
         "hovertemplate": "continent=Europe<br>gdpPercap=%{x}<br>lifeExp=%{y}<br>pop=%{marker.size}<extra></extra>",
         "legendgroup": "Europe",
         "marker": {
          "color": "rgb(221,132,82)",
          "size": [
           3600523,
           8199783,
           10392226,
           4552198,
           7322858,
           4493312,
           10228744,
           5468120,
           5238460,
           61083916,
           82400996,
           10706290,
           9956108,
           301931,
           4109086,
           58147733,
           684736,
           16570613,
           4627926,
           38518241,
           10642836,
           22276056,
           10150265,
           5447502,
           2009245,
           40448191,
           9031088,
           7554661,
           71158647,
           60776238
          ],
          "sizemode": "area",
          "sizeref": 366300.86,
          "symbol": "circle"
         },
         "mode": "markers",
         "name": "Europe",
         "orientation": "v",
         "showlegend": true,
         "type": "scatter",
         "x": [
          5937.029525999998,
          36126.4927,
          33692.60508,
          7446.298803,
          10680.79282,
          14619.222719999998,
          22833.30851,
          35278.41874,
          33207.0844,
          30470.0167,
          32170.37442,
          27538.41188,
          18008.94444,
          36180.78919,
          40675.99635,
          28569.7197,
          9253.896111,
          36797.93332,
          49357.19017,
          15389.924680000002,
          20509.64777,
          10808.47561,
          9786.534714,
          18678.31435,
          25768.25759,
          28821.0637,
          33859.74835,
          37506.41907,
          8458.276384,
          33203.26128
         ],
         "xaxis": "x",
         "y": [
          76.423,
          79.829,
          79.441,
          74.852,
          73.005,
          75.748,
          76.486,
          78.332,
          79.313,
          80.657,
          79.406,
          79.483,
          73.33800000000002,
          81.757,
          78.885,
          80.546,
          74.543,
          79.762,
          80.196,
          75.563,
          78.098,
          72.476,
          74.002,
          74.663,
          77.926,
          80.941,
          80.884,
          81.70100000000002,
          71.777,
          79.425
         ],
         "yaxis": "y"
        },
        {
         "hovertemplate": "continent=Africa<br>gdpPercap=%{x}<br>lifeExp=%{y}<br>pop=%{marker.size}<extra></extra>",
         "legendgroup": "Africa",
         "marker": {
          "color": "rgb(85,168,104)",
          "size": [
           33333216,
           12420476,
           8078314,
           1639131,
           14326203,
           8390505,
           17696293,
           4369038,
           10238807,
           710960,
           64606759,
           3800610,
           18013409,
           496374,
           80264543,
           551201,
           4906585,
           76511887,
           1454867,
           1688359,
           22873338,
           9947814,
           1472041,
           35610177,
           2012649,
           3193942,
           6036914,
           19167654,
           13327079,
           12031795,
           3270065,
           1250882,
           33757175,
           19951656,
           2055080,
           12894865,
           135031164,
           798094,
           8860588,
           199579,
           12267493,
           6144562,
           9118773,
           43997828,
           42292929,
           1133066,
           38139640,
           5701579,
           10276158,
           29170398,
           11746035,
           12311143
          ],
          "sizemode": "area",
          "sizeref": 366300.86,
          "symbol": "circle"
         },
         "mode": "markers",
         "name": "Africa",
         "orientation": "v",
         "showlegend": true,
         "type": "scatter",
         "x": [
          6223.367465,
          4797.231267,
          1441.284873,
          12569.85177,
          1217.032994,
          430.0706916,
          2042.09524,
          706.016537,
          1704.063724,
          986.1478792,
          277.5518587,
          3632.557798,
          1544.750112,
          2082.4815670000007,
          5581.180998,
          12154.08975,
          641.3695236000002,
          690.8055759,
          13206.48452,
          752.7497265,
          1327.60891,
          942.6542111,
          579.2317429999998,
          1463.249282,
          1569.331442,
          414.5073415,
          12057.49928,
          1044.770126,
          759.3499101,
          1042.581557,
          1803.151496,
          10956.99112,
          3820.17523,
          823.6856205,
          4811.060429,
          619.6768923999998,
          2013.977305,
          7670.122558,
          863.0884639000002,
          1598.435089,
          1712.472136,
          862.5407561000002,
          926.1410683,
          9269.657808,
          2602.394995,
          4513.480643,
          1107.482182,
          882.9699437999999,
          7092.923025,
          1056.380121,
          1271.211593,
          469.70929810000007
         ],
         "xaxis": "x",
         "y": [
          72.301,
          42.731,
          56.728,
          50.728,
          52.295,
          49.58,
          50.43,
          44.74100000000001,
          50.651,
          65.152,
          46.462,
          55.322,
          48.328,
          54.791,
          71.33800000000002,
          51.57899999999999,
          58.04,
          52.947,
          56.735,
          59.448,
          60.022,
          56.007,
          46.38800000000001,
          54.11,
          42.592,
          45.678,
          73.952,
          59.44300000000001,
          48.303,
          54.467,
          64.164,
          72.801,
          71.164,
          42.082,
          52.90600000000001,
          56.867,
          46.859,
          76.442,
          46.242,
          65.528,
          63.062,
          42.56800000000001,
          48.159,
          49.339,
          58.556,
          39.613,
          52.517,
          58.42,
          73.923,
          51.542,
          42.38399999999999,
          43.487
         ],
         "yaxis": "y"
        },
        {
         "hovertemplate": "continent=Americas<br>gdpPercap=%{x}<br>lifeExp=%{y}<br>pop=%{marker.size}<extra></extra>",
         "legendgroup": "Americas",
         "marker": {
          "color": "rgb(196,78,82)",
          "size": [
           40301927,
           9119152,
           190010647,
           33390141,
           16284741,
           44227550,
           4133884,
           11416987,
           9319622,
           13755680,
           6939688,
           12572928,
           8502814,
           7483763,
           2780132,
           108700891,
           5675356,
           3242173,
           6667147,
           28674757,
           3942491,
           1056608,
           301139947,
           3447496,
           26084662
          ],
          "sizemode": "area",
          "sizeref": 366300.86,
          "symbol": "circle"
         },
         "mode": "markers",
         "name": "Americas",
         "orientation": "v",
         "showlegend": true,
         "type": "scatter",
         "x": [
          12779.37964,
          3822.137084,
          9065.800825,
          36319.23501,
          13171.63885,
          7006.580419,
          9645.06142,
          8948.102923,
          6025.3747520000015,
          6873.262326000001,
          5728.353514,
          5186.050003,
          1201.637154,
          3548.3308460000007,
          7320.8802620000015,
          11977.57496,
          2749.320965,
          9809.185636,
          4172.838464,
          7408.905561,
          19328.70901,
          18008.50924,
          42951.65309,
          10611.46299,
          11415.80569
         ],
         "xaxis": "x",
         "y": [
          75.32,
          65.554,
          72.39,
          80.653,
          78.553,
          72.889,
          78.782,
          78.273,
          72.235,
          74.994,
          71.878,
          70.259,
          60.916,
          70.19800000000001,
          72.567,
          76.195,
          72.899,
          75.53699999999998,
          71.752,
          71.421,
          78.74600000000002,
          69.819,
          78.242,
          76.384,
          73.747
         ],
         "yaxis": "y"
        },
        {
         "hovertemplate": "continent=Oceania<br>gdpPercap=%{x}<br>lifeExp=%{y}<br>pop=%{marker.size}<extra></extra>",
         "legendgroup": "Oceania",
         "marker": {
          "color": "rgb(129,114,179)",
          "size": [
           20434176,
           4115771
          ],
          "sizemode": "area",
          "sizeref": 366300.86,
          "symbol": "circle"
         },
         "mode": "markers",
         "name": "Oceania",
         "orientation": "v",
         "showlegend": true,
         "type": "scatter",
         "x": [
          34435.367439999995,
          25185.00911
         ],
         "xaxis": "x",
         "y": [
          81.235,
          80.204
         ],
         "yaxis": "y"
        }
       ],
       "layout": {
        "legend": {
         "itemsizing": "constant",
         "title": {
          "text": "continent"
         },
         "tracegroupgap": 0
        },
        "template": {
         "data": {
          "bar": [
           {
            "error_x": {
             "color": "rgb(36,36,36)"
            },
            "error_y": {
             "color": "rgb(36,36,36)"
            },
            "marker": {
             "line": {
              "color": "rgb(234,234,242)",
              "width": 0.5
             },
             "pattern": {
              "fillmode": "overlay",
              "size": 10,
              "solidity": 0.2
             }
            },
            "type": "bar"
           }
          ],
          "barpolar": [
           {
            "marker": {
             "line": {
              "color": "rgb(234,234,242)",
              "width": 0.5
             },
             "pattern": {
              "fillmode": "overlay",
              "size": 10,
              "solidity": 0.2
             }
            },
            "type": "barpolar"
           }
          ],
          "carpet": [
           {
            "aaxis": {
             "endlinecolor": "rgb(36,36,36)",
             "gridcolor": "white",
             "linecolor": "white",
             "minorgridcolor": "white",
             "startlinecolor": "rgb(36,36,36)"
            },
            "baxis": {
             "endlinecolor": "rgb(36,36,36)",
             "gridcolor": "white",
             "linecolor": "white",
             "minorgridcolor": "white",
             "startlinecolor": "rgb(36,36,36)"
            },
            "type": "carpet"
           }
          ],
          "choropleth": [
           {
            "colorbar": {
             "outlinewidth": 0,
             "tickcolor": "rgb(36,36,36)",
             "ticklen": 8,
             "ticks": "outside",
             "tickwidth": 2
            },
            "type": "choropleth"
           }
          ],
          "contour": [
           {
            "colorbar": {
             "outlinewidth": 0,
             "tickcolor": "rgb(36,36,36)",
             "ticklen": 8,
             "ticks": "outside",
             "tickwidth": 2
            },
            "colorscale": [
             [
              0,
              "rgb(2,4,25)"
             ],
             [
              0.06274509803921569,
              "rgb(24,15,41)"
             ],
             [
              0.12549019607843137,
              "rgb(47,23,57)"
             ],
             [
              0.18823529411764706,
              "rgb(71,28,72)"
             ],
             [
              0.25098039215686274,
              "rgb(97,30,82)"
             ],
             [
              0.3137254901960784,
              "rgb(123,30,89)"
             ],
             [
              0.3764705882352941,
              "rgb(150,27,91)"
             ],
             [
              0.4392156862745098,
              "rgb(177,22,88)"
             ],
             [
              0.5019607843137255,
              "rgb(203,26,79)"
             ],
             [
              0.5647058823529412,
              "rgb(223,47,67)"
             ],
             [
              0.6274509803921569,
              "rgb(236,76,61)"
             ],
             [
              0.6901960784313725,
              "rgb(242,107,73)"
             ],
             [
              0.7529411764705882,
              "rgb(244,135,95)"
             ],
             [
              0.8156862745098039,
              "rgb(245,162,122)"
             ],
             [
              0.8784313725490196,
              "rgb(246,188,153)"
             ],
             [
              0.9411764705882353,
              "rgb(247,212,187)"
             ],
             [
              1,
              "rgb(250,234,220)"
             ]
            ],
            "type": "contour"
           }
          ],
          "contourcarpet": [
           {
            "colorbar": {
             "outlinewidth": 0,
             "tickcolor": "rgb(36,36,36)",
             "ticklen": 8,
             "ticks": "outside",
             "tickwidth": 2
            },
            "type": "contourcarpet"
           }
          ],
          "heatmap": [
           {
            "colorbar": {
             "outlinewidth": 0,
             "tickcolor": "rgb(36,36,36)",
             "ticklen": 8,
             "ticks": "outside",
             "tickwidth": 2
            },
            "colorscale": [
             [
              0,
              "rgb(2,4,25)"
             ],
             [
              0.06274509803921569,
              "rgb(24,15,41)"
             ],
             [
              0.12549019607843137,
              "rgb(47,23,57)"
             ],
             [
              0.18823529411764706,
              "rgb(71,28,72)"
             ],
             [
              0.25098039215686274,
              "rgb(97,30,82)"
             ],
             [
              0.3137254901960784,
              "rgb(123,30,89)"
             ],
             [
              0.3764705882352941,
              "rgb(150,27,91)"
             ],
             [
              0.4392156862745098,
              "rgb(177,22,88)"
             ],
             [
              0.5019607843137255,
              "rgb(203,26,79)"
             ],
             [
              0.5647058823529412,
              "rgb(223,47,67)"
             ],
             [
              0.6274509803921569,
              "rgb(236,76,61)"
             ],
             [
              0.6901960784313725,
              "rgb(242,107,73)"
             ],
             [
              0.7529411764705882,
              "rgb(244,135,95)"
             ],
             [
              0.8156862745098039,
              "rgb(245,162,122)"
             ],
             [
              0.8784313725490196,
              "rgb(246,188,153)"
             ],
             [
              0.9411764705882353,
              "rgb(247,212,187)"
             ],
             [
              1,
              "rgb(250,234,220)"
             ]
            ],
            "type": "heatmap"
           }
          ],
          "heatmapgl": [
           {
            "colorbar": {
             "outlinewidth": 0,
             "tickcolor": "rgb(36,36,36)",
             "ticklen": 8,
             "ticks": "outside",
             "tickwidth": 2
            },
            "colorscale": [
             [
              0,
              "rgb(2,4,25)"
             ],
             [
              0.06274509803921569,
              "rgb(24,15,41)"
             ],
             [
              0.12549019607843137,
              "rgb(47,23,57)"
             ],
             [
              0.18823529411764706,
              "rgb(71,28,72)"
             ],
             [
              0.25098039215686274,
              "rgb(97,30,82)"
             ],
             [
              0.3137254901960784,
              "rgb(123,30,89)"
             ],
             [
              0.3764705882352941,
              "rgb(150,27,91)"
             ],
             [
              0.4392156862745098,
              "rgb(177,22,88)"
             ],
             [
              0.5019607843137255,
              "rgb(203,26,79)"
             ],
             [
              0.5647058823529412,
              "rgb(223,47,67)"
             ],
             [
              0.6274509803921569,
              "rgb(236,76,61)"
             ],
             [
              0.6901960784313725,
              "rgb(242,107,73)"
             ],
             [
              0.7529411764705882,
              "rgb(244,135,95)"
             ],
             [
              0.8156862745098039,
              "rgb(245,162,122)"
             ],
             [
              0.8784313725490196,
              "rgb(246,188,153)"
             ],
             [
              0.9411764705882353,
              "rgb(247,212,187)"
             ],
             [
              1,
              "rgb(250,234,220)"
             ]
            ],
            "type": "heatmapgl"
           }
          ],
          "histogram": [
           {
            "marker": {
             "pattern": {
              "fillmode": "overlay",
              "size": 10,
              "solidity": 0.2
             }
            },
            "type": "histogram"
           }
          ],
          "histogram2d": [
           {
            "colorbar": {
             "outlinewidth": 0,
             "tickcolor": "rgb(36,36,36)",
             "ticklen": 8,
             "ticks": "outside",
             "tickwidth": 2
            },
            "colorscale": [
             [
              0,
              "rgb(2,4,25)"
             ],
             [
              0.06274509803921569,
              "rgb(24,15,41)"
             ],
             [
              0.12549019607843137,
              "rgb(47,23,57)"
             ],
             [
              0.18823529411764706,
              "rgb(71,28,72)"
             ],
             [
              0.25098039215686274,
              "rgb(97,30,82)"
             ],
             [
              0.3137254901960784,
              "rgb(123,30,89)"
             ],
             [
              0.3764705882352941,
              "rgb(150,27,91)"
             ],
             [
              0.4392156862745098,
              "rgb(177,22,88)"
             ],
             [
              0.5019607843137255,
              "rgb(203,26,79)"
             ],
             [
              0.5647058823529412,
              "rgb(223,47,67)"
             ],
             [
              0.6274509803921569,
              "rgb(236,76,61)"
             ],
             [
              0.6901960784313725,
              "rgb(242,107,73)"
             ],
             [
              0.7529411764705882,
              "rgb(244,135,95)"
             ],
             [
              0.8156862745098039,
              "rgb(245,162,122)"
             ],
             [
              0.8784313725490196,
              "rgb(246,188,153)"
             ],
             [
              0.9411764705882353,
              "rgb(247,212,187)"
             ],
             [
              1,
              "rgb(250,234,220)"
             ]
            ],
            "type": "histogram2d"
           }
          ],
          "histogram2dcontour": [
           {
            "colorbar": {
             "outlinewidth": 0,
             "tickcolor": "rgb(36,36,36)",
             "ticklen": 8,
             "ticks": "outside",
             "tickwidth": 2
            },
            "colorscale": [
             [
              0,
              "rgb(2,4,25)"
             ],
             [
              0.06274509803921569,
              "rgb(24,15,41)"
             ],
             [
              0.12549019607843137,
              "rgb(47,23,57)"
             ],
             [
              0.18823529411764706,
              "rgb(71,28,72)"
             ],
             [
              0.25098039215686274,
              "rgb(97,30,82)"
             ],
             [
              0.3137254901960784,
              "rgb(123,30,89)"
             ],
             [
              0.3764705882352941,
              "rgb(150,27,91)"
             ],
             [
              0.4392156862745098,
              "rgb(177,22,88)"
             ],
             [
              0.5019607843137255,
              "rgb(203,26,79)"
             ],
             [
              0.5647058823529412,
              "rgb(223,47,67)"
             ],
             [
              0.6274509803921569,
              "rgb(236,76,61)"
             ],
             [
              0.6901960784313725,
              "rgb(242,107,73)"
             ],
             [
              0.7529411764705882,
              "rgb(244,135,95)"
             ],
             [
              0.8156862745098039,
              "rgb(245,162,122)"
             ],
             [
              0.8784313725490196,
              "rgb(246,188,153)"
             ],
             [
              0.9411764705882353,
              "rgb(247,212,187)"
             ],
             [
              1,
              "rgb(250,234,220)"
             ]
            ],
            "type": "histogram2dcontour"
           }
          ],
          "mesh3d": [
           {
            "colorbar": {
             "outlinewidth": 0,
             "tickcolor": "rgb(36,36,36)",
             "ticklen": 8,
             "ticks": "outside",
             "tickwidth": 2
            },
            "type": "mesh3d"
           }
          ],
          "parcoords": [
           {
            "line": {
             "colorbar": {
              "outlinewidth": 0,
              "tickcolor": "rgb(36,36,36)",
              "ticklen": 8,
              "ticks": "outside",
              "tickwidth": 2
             }
            },
            "type": "parcoords"
           }
          ],
          "pie": [
           {
            "automargin": true,
            "type": "pie"
           }
          ],
          "scatter": [
           {
            "fillpattern": {
             "fillmode": "overlay",
             "size": 10,
             "solidity": 0.2
            },
            "type": "scatter"
           }
          ],
          "scatter3d": [
           {
            "line": {
             "colorbar": {
              "outlinewidth": 0,
              "tickcolor": "rgb(36,36,36)",
              "ticklen": 8,
              "ticks": "outside",
              "tickwidth": 2
             }
            },
            "marker": {
             "colorbar": {
              "outlinewidth": 0,
              "tickcolor": "rgb(36,36,36)",
              "ticklen": 8,
              "ticks": "outside",
              "tickwidth": 2
             }
            },
            "type": "scatter3d"
           }
          ],
          "scattercarpet": [
           {
            "marker": {
             "colorbar": {
              "outlinewidth": 0,
              "tickcolor": "rgb(36,36,36)",
              "ticklen": 8,
              "ticks": "outside",
              "tickwidth": 2
             }
            },
            "type": "scattercarpet"
           }
          ],
          "scattergeo": [
           {
            "marker": {
             "colorbar": {
              "outlinewidth": 0,
              "tickcolor": "rgb(36,36,36)",
              "ticklen": 8,
              "ticks": "outside",
              "tickwidth": 2
             }
            },
            "type": "scattergeo"
           }
          ],
          "scattergl": [
           {
            "marker": {
             "colorbar": {
              "outlinewidth": 0,
              "tickcolor": "rgb(36,36,36)",
              "ticklen": 8,
              "ticks": "outside",
              "tickwidth": 2
             }
            },
            "type": "scattergl"
           }
          ],
          "scattermapbox": [
           {
            "marker": {
             "colorbar": {
              "outlinewidth": 0,
              "tickcolor": "rgb(36,36,36)",
              "ticklen": 8,
              "ticks": "outside",
              "tickwidth": 2
             }
            },
            "type": "scattermapbox"
           }
          ],
          "scatterpolar": [
           {
            "marker": {
             "colorbar": {
              "outlinewidth": 0,
              "tickcolor": "rgb(36,36,36)",
              "ticklen": 8,
              "ticks": "outside",
              "tickwidth": 2
             }
            },
            "type": "scatterpolar"
           }
          ],
          "scatterpolargl": [
           {
            "marker": {
             "colorbar": {
              "outlinewidth": 0,
              "tickcolor": "rgb(36,36,36)",
              "ticklen": 8,
              "ticks": "outside",
              "tickwidth": 2
             }
            },
            "type": "scatterpolargl"
           }
          ],
          "scatterternary": [
           {
            "marker": {
             "colorbar": {
              "outlinewidth": 0,
              "tickcolor": "rgb(36,36,36)",
              "ticklen": 8,
              "ticks": "outside",
              "tickwidth": 2
             }
            },
            "type": "scatterternary"
           }
          ],
          "surface": [
           {
            "colorbar": {
             "outlinewidth": 0,
             "tickcolor": "rgb(36,36,36)",
             "ticklen": 8,
             "ticks": "outside",
             "tickwidth": 2
            },
            "colorscale": [
             [
              0,
              "rgb(2,4,25)"
             ],
             [
              0.06274509803921569,
              "rgb(24,15,41)"
             ],
             [
              0.12549019607843137,
              "rgb(47,23,57)"
             ],
             [
              0.18823529411764706,
              "rgb(71,28,72)"
             ],
             [
              0.25098039215686274,
              "rgb(97,30,82)"
             ],
             [
              0.3137254901960784,
              "rgb(123,30,89)"
             ],
             [
              0.3764705882352941,
              "rgb(150,27,91)"
             ],
             [
              0.4392156862745098,
              "rgb(177,22,88)"
             ],
             [
              0.5019607843137255,
              "rgb(203,26,79)"
             ],
             [
              0.5647058823529412,
              "rgb(223,47,67)"
             ],
             [
              0.6274509803921569,
              "rgb(236,76,61)"
             ],
             [
              0.6901960784313725,
              "rgb(242,107,73)"
             ],
             [
              0.7529411764705882,
              "rgb(244,135,95)"
             ],
             [
              0.8156862745098039,
              "rgb(245,162,122)"
             ],
             [
              0.8784313725490196,
              "rgb(246,188,153)"
             ],
             [
              0.9411764705882353,
              "rgb(247,212,187)"
             ],
             [
              1,
              "rgb(250,234,220)"
             ]
            ],
            "type": "surface"
           }
          ],
          "table": [
           {
            "cells": {
             "fill": {
              "color": "rgb(231,231,240)"
             },
             "line": {
              "color": "white"
             }
            },
            "header": {
             "fill": {
              "color": "rgb(183,183,191)"
             },
             "line": {
              "color": "white"
             }
            },
            "type": "table"
           }
          ]
         },
         "layout": {
          "annotationdefaults": {
           "arrowcolor": "rgb(67,103,167)"
          },
          "autotypenumbers": "strict",
          "coloraxis": {
           "colorbar": {
            "outlinewidth": 0,
            "tickcolor": "rgb(36,36,36)",
            "ticklen": 8,
            "ticks": "outside",
            "tickwidth": 2
           }
          },
          "colorscale": {
           "sequential": [
            [
             0,
             "rgb(2,4,25)"
            ],
            [
             0.06274509803921569,
             "rgb(24,15,41)"
            ],
            [
             0.12549019607843137,
             "rgb(47,23,57)"
            ],
            [
             0.18823529411764706,
             "rgb(71,28,72)"
            ],
            [
             0.25098039215686274,
             "rgb(97,30,82)"
            ],
            [
             0.3137254901960784,
             "rgb(123,30,89)"
            ],
            [
             0.3764705882352941,
             "rgb(150,27,91)"
            ],
            [
             0.4392156862745098,
             "rgb(177,22,88)"
            ],
            [
             0.5019607843137255,
             "rgb(203,26,79)"
            ],
            [
             0.5647058823529412,
             "rgb(223,47,67)"
            ],
            [
             0.6274509803921569,
             "rgb(236,76,61)"
            ],
            [
             0.6901960784313725,
             "rgb(242,107,73)"
            ],
            [
             0.7529411764705882,
             "rgb(244,135,95)"
            ],
            [
             0.8156862745098039,
             "rgb(245,162,122)"
            ],
            [
             0.8784313725490196,
             "rgb(246,188,153)"
            ],
            [
             0.9411764705882353,
             "rgb(247,212,187)"
            ],
            [
             1,
             "rgb(250,234,220)"
            ]
           ],
           "sequentialminus": [
            [
             0,
             "rgb(2,4,25)"
            ],
            [
             0.06274509803921569,
             "rgb(24,15,41)"
            ],
            [
             0.12549019607843137,
             "rgb(47,23,57)"
            ],
            [
             0.18823529411764706,
             "rgb(71,28,72)"
            ],
            [
             0.25098039215686274,
             "rgb(97,30,82)"
            ],
            [
             0.3137254901960784,
             "rgb(123,30,89)"
            ],
            [
             0.3764705882352941,
             "rgb(150,27,91)"
            ],
            [
             0.4392156862745098,
             "rgb(177,22,88)"
            ],
            [
             0.5019607843137255,
             "rgb(203,26,79)"
            ],
            [
             0.5647058823529412,
             "rgb(223,47,67)"
            ],
            [
             0.6274509803921569,
             "rgb(236,76,61)"
            ],
            [
             0.6901960784313725,
             "rgb(242,107,73)"
            ],
            [
             0.7529411764705882,
             "rgb(244,135,95)"
            ],
            [
             0.8156862745098039,
             "rgb(245,162,122)"
            ],
            [
             0.8784313725490196,
             "rgb(246,188,153)"
            ],
            [
             0.9411764705882353,
             "rgb(247,212,187)"
            ],
            [
             1,
             "rgb(250,234,220)"
            ]
           ]
          },
          "colorway": [
           "rgb(76,114,176)",
           "rgb(221,132,82)",
           "rgb(85,168,104)",
           "rgb(196,78,82)",
           "rgb(129,114,179)",
           "rgb(147,120,96)",
           "rgb(218,139,195)",
           "rgb(140,140,140)",
           "rgb(204,185,116)",
           "rgb(100,181,205)"
          ],
          "font": {
           "color": "rgb(36,36,36)"
          },
          "geo": {
           "bgcolor": "white",
           "lakecolor": "white",
           "landcolor": "rgb(234,234,242)",
           "showlakes": true,
           "showland": true,
           "subunitcolor": "white"
          },
          "hoverlabel": {
           "align": "left"
          },
          "hovermode": "closest",
          "paper_bgcolor": "white",
          "plot_bgcolor": "rgb(234,234,242)",
          "polar": {
           "angularaxis": {
            "gridcolor": "white",
            "linecolor": "white",
            "showgrid": true,
            "ticks": ""
           },
           "bgcolor": "rgb(234,234,242)",
           "radialaxis": {
            "gridcolor": "white",
            "linecolor": "white",
            "showgrid": true,
            "ticks": ""
           }
          },
          "scene": {
           "xaxis": {
            "backgroundcolor": "rgb(234,234,242)",
            "gridcolor": "white",
            "gridwidth": 2,
            "linecolor": "white",
            "showbackground": true,
            "showgrid": true,
            "ticks": "",
            "zerolinecolor": "white"
           },
           "yaxis": {
            "backgroundcolor": "rgb(234,234,242)",
            "gridcolor": "white",
            "gridwidth": 2,
            "linecolor": "white",
            "showbackground": true,
            "showgrid": true,
            "ticks": "",
            "zerolinecolor": "white"
           },
           "zaxis": {
            "backgroundcolor": "rgb(234,234,242)",
            "gridcolor": "white",
            "gridwidth": 2,
            "linecolor": "white",
            "showbackground": true,
            "showgrid": true,
            "ticks": "",
            "zerolinecolor": "white"
           }
          },
          "shapedefaults": {
           "fillcolor": "rgb(67,103,167)",
           "line": {
            "width": 0
           },
           "opacity": 0.5
          },
          "ternary": {
           "aaxis": {
            "gridcolor": "white",
            "linecolor": "white",
            "showgrid": true,
            "ticks": ""
           },
           "baxis": {
            "gridcolor": "white",
            "linecolor": "white",
            "showgrid": true,
            "ticks": ""
           },
           "bgcolor": "rgb(234,234,242)",
           "caxis": {
            "gridcolor": "white",
            "linecolor": "white",
            "showgrid": true,
            "ticks": ""
           }
          },
          "xaxis": {
           "automargin": true,
           "gridcolor": "white",
           "linecolor": "white",
           "showgrid": true,
           "ticks": "",
           "title": {
            "standoff": 15
           },
           "zerolinecolor": "white"
          },
          "yaxis": {
           "automargin": true,
           "gridcolor": "white",
           "linecolor": "white",
           "showgrid": true,
           "ticks": "",
           "title": {
            "standoff": 15
           },
           "zerolinecolor": "white"
          }
         }
        },
        "title": {
         "text": "Gapminder 2007: 'seaborn' theme"
        },
        "xaxis": {
         "anchor": "y",
         "domain": [
          0,
          1
         ],
         "title": {
          "text": "gdpPercap"
         },
         "type": "log"
        },
        "yaxis": {
         "anchor": "x",
         "domain": [
          0,
          1
         ],
         "title": {
          "text": "lifeExp"
         }
        }
       }
      }
     },
     "metadata": {},
     "output_type": "display_data"
    },
    {
     "data": {
      "application/vnd.plotly.v1+json": {
       "config": {
        "plotlyServerURL": "https://plotly.com"
       },
       "data": [
        {
         "hovertemplate": "continent=Asia<br>gdpPercap=%{x}<br>lifeExp=%{y}<br>pop=%{marker.size}<extra></extra>",
         "legendgroup": "Asia",
         "marker": {
          "color": "#1F77B4",
          "size": [
           31889923,
           708573,
           150448339,
           14131858,
           1318683096,
           6980412,
           1110396331,
           223547000,
           69453570,
           27499638,
           6426679,
           127467972,
           6053193,
           23301725,
           49044790,
           2505559,
           3921278,
           24821286,
           2874127,
           47761980,
           28901790,
           3204897,
           169270617,
           91077287,
           27601038,
           4553009,
           20378239,
           19314747,
           23174294,
           65068149,
           85262356,
           4018332,
           22211743
          ],
          "sizemode": "area",
          "sizeref": 366300.86,
          "symbol": "circle"
         },
         "mode": "markers",
         "name": "Asia",
         "orientation": "v",
         "showlegend": true,
         "type": "scatter",
         "x": [
          974.5803384,
          29796.04834,
          1391.253792,
          1713.778686,
          4959.114854,
          39724.97867,
          2452.210407,
          3540.651564,
          11605.71449,
          4471.061906,
          25523.2771,
          31656.06806,
          4519.461171,
          1593.06548,
          23348.139730000006,
          47306.98978,
          10461.05868,
          12451.6558,
          3095.7722710000007,
          944,
          1091.359778,
          22316.19287,
          2605.94758,
          3190.481016,
          21654.83194,
          47143.17964,
          3970.095407,
          4184.548089,
          28718.27684,
          7458.396326999998,
          2441.576404,
          3025.349798,
          2280.769906
         ],
         "xaxis": "x",
         "y": [
          43.828,
          75.635,
          64.062,
          59.723,
          72.961,
          82.208,
          64.69800000000001,
          70.65,
          70.964,
          59.545,
          80.745,
          82.603,
          72.535,
          67.297,
          78.623,
          77.58800000000002,
          71.993,
          74.241,
          66.803,
          62.069,
          63.785,
          75.64,
          65.483,
          71.688,
          72.777,
          79.972,
          72.396,
          74.143,
          78.4,
          70.616,
          74.249,
          73.422,
          62.698
         ],
         "yaxis": "y"
        },
        {
         "hovertemplate": "continent=Europe<br>gdpPercap=%{x}<br>lifeExp=%{y}<br>pop=%{marker.size}<extra></extra>",
         "legendgroup": "Europe",
         "marker": {
          "color": "#FF7F0E",
          "size": [
           3600523,
           8199783,
           10392226,
           4552198,
           7322858,
           4493312,
           10228744,
           5468120,
           5238460,
           61083916,
           82400996,
           10706290,
           9956108,
           301931,
           4109086,
           58147733,
           684736,
           16570613,
           4627926,
           38518241,
           10642836,
           22276056,
           10150265,
           5447502,
           2009245,
           40448191,
           9031088,
           7554661,
           71158647,
           60776238
          ],
          "sizemode": "area",
          "sizeref": 366300.86,
          "symbol": "circle"
         },
         "mode": "markers",
         "name": "Europe",
         "orientation": "v",
         "showlegend": true,
         "type": "scatter",
         "x": [
          5937.029525999998,
          36126.4927,
          33692.60508,
          7446.298803,
          10680.79282,
          14619.222719999998,
          22833.30851,
          35278.41874,
          33207.0844,
          30470.0167,
          32170.37442,
          27538.41188,
          18008.94444,
          36180.78919,
          40675.99635,
          28569.7197,
          9253.896111,
          36797.93332,
          49357.19017,
          15389.924680000002,
          20509.64777,
          10808.47561,
          9786.534714,
          18678.31435,
          25768.25759,
          28821.0637,
          33859.74835,
          37506.41907,
          8458.276384,
          33203.26128
         ],
         "xaxis": "x",
         "y": [
          76.423,
          79.829,
          79.441,
          74.852,
          73.005,
          75.748,
          76.486,
          78.332,
          79.313,
          80.657,
          79.406,
          79.483,
          73.33800000000002,
          81.757,
          78.885,
          80.546,
          74.543,
          79.762,
          80.196,
          75.563,
          78.098,
          72.476,
          74.002,
          74.663,
          77.926,
          80.941,
          80.884,
          81.70100000000002,
          71.777,
          79.425
         ],
         "yaxis": "y"
        },
        {
         "hovertemplate": "continent=Africa<br>gdpPercap=%{x}<br>lifeExp=%{y}<br>pop=%{marker.size}<extra></extra>",
         "legendgroup": "Africa",
         "marker": {
          "color": "#2CA02C",
          "size": [
           33333216,
           12420476,
           8078314,
           1639131,
           14326203,
           8390505,
           17696293,
           4369038,
           10238807,
           710960,
           64606759,
           3800610,
           18013409,
           496374,
           80264543,
           551201,
           4906585,
           76511887,
           1454867,
           1688359,
           22873338,
           9947814,
           1472041,
           35610177,
           2012649,
           3193942,
           6036914,
           19167654,
           13327079,
           12031795,
           3270065,
           1250882,
           33757175,
           19951656,
           2055080,
           12894865,
           135031164,
           798094,
           8860588,
           199579,
           12267493,
           6144562,
           9118773,
           43997828,
           42292929,
           1133066,
           38139640,
           5701579,
           10276158,
           29170398,
           11746035,
           12311143
          ],
          "sizemode": "area",
          "sizeref": 366300.86,
          "symbol": "circle"
         },
         "mode": "markers",
         "name": "Africa",
         "orientation": "v",
         "showlegend": true,
         "type": "scatter",
         "x": [
          6223.367465,
          4797.231267,
          1441.284873,
          12569.85177,
          1217.032994,
          430.0706916,
          2042.09524,
          706.016537,
          1704.063724,
          986.1478792,
          277.5518587,
          3632.557798,
          1544.750112,
          2082.4815670000007,
          5581.180998,
          12154.08975,
          641.3695236000002,
          690.8055759,
          13206.48452,
          752.7497265,
          1327.60891,
          942.6542111,
          579.2317429999998,
          1463.249282,
          1569.331442,
          414.5073415,
          12057.49928,
          1044.770126,
          759.3499101,
          1042.581557,
          1803.151496,
          10956.99112,
          3820.17523,
          823.6856205,
          4811.060429,
          619.6768923999998,
          2013.977305,
          7670.122558,
          863.0884639000002,
          1598.435089,
          1712.472136,
          862.5407561000002,
          926.1410683,
          9269.657808,
          2602.394995,
          4513.480643,
          1107.482182,
          882.9699437999999,
          7092.923025,
          1056.380121,
          1271.211593,
          469.70929810000007
         ],
         "xaxis": "x",
         "y": [
          72.301,
          42.731,
          56.728,
          50.728,
          52.295,
          49.58,
          50.43,
          44.74100000000001,
          50.651,
          65.152,
          46.462,
          55.322,
          48.328,
          54.791,
          71.33800000000002,
          51.57899999999999,
          58.04,
          52.947,
          56.735,
          59.448,
          60.022,
          56.007,
          46.38800000000001,
          54.11,
          42.592,
          45.678,
          73.952,
          59.44300000000001,
          48.303,
          54.467,
          64.164,
          72.801,
          71.164,
          42.082,
          52.90600000000001,
          56.867,
          46.859,
          76.442,
          46.242,
          65.528,
          63.062,
          42.56800000000001,
          48.159,
          49.339,
          58.556,
          39.613,
          52.517,
          58.42,
          73.923,
          51.542,
          42.38399999999999,
          43.487
         ],
         "yaxis": "y"
        },
        {
         "hovertemplate": "continent=Americas<br>gdpPercap=%{x}<br>lifeExp=%{y}<br>pop=%{marker.size}<extra></extra>",
         "legendgroup": "Americas",
         "marker": {
          "color": "#D62728",
          "size": [
           40301927,
           9119152,
           190010647,
           33390141,
           16284741,
           44227550,
           4133884,
           11416987,
           9319622,
           13755680,
           6939688,
           12572928,
           8502814,
           7483763,
           2780132,
           108700891,
           5675356,
           3242173,
           6667147,
           28674757,
           3942491,
           1056608,
           301139947,
           3447496,
           26084662
          ],
          "sizemode": "area",
          "sizeref": 366300.86,
          "symbol": "circle"
         },
         "mode": "markers",
         "name": "Americas",
         "orientation": "v",
         "showlegend": true,
         "type": "scatter",
         "x": [
          12779.37964,
          3822.137084,
          9065.800825,
          36319.23501,
          13171.63885,
          7006.580419,
          9645.06142,
          8948.102923,
          6025.3747520000015,
          6873.262326000001,
          5728.353514,
          5186.050003,
          1201.637154,
          3548.3308460000007,
          7320.8802620000015,
          11977.57496,
          2749.320965,
          9809.185636,
          4172.838464,
          7408.905561,
          19328.70901,
          18008.50924,
          42951.65309,
          10611.46299,
          11415.80569
         ],
         "xaxis": "x",
         "y": [
          75.32,
          65.554,
          72.39,
          80.653,
          78.553,
          72.889,
          78.782,
          78.273,
          72.235,
          74.994,
          71.878,
          70.259,
          60.916,
          70.19800000000001,
          72.567,
          76.195,
          72.899,
          75.53699999999998,
          71.752,
          71.421,
          78.74600000000002,
          69.819,
          78.242,
          76.384,
          73.747
         ],
         "yaxis": "y"
        },
        {
         "hovertemplate": "continent=Oceania<br>gdpPercap=%{x}<br>lifeExp=%{y}<br>pop=%{marker.size}<extra></extra>",
         "legendgroup": "Oceania",
         "marker": {
          "color": "#9467BD",
          "size": [
           20434176,
           4115771
          ],
          "sizemode": "area",
          "sizeref": 366300.86,
          "symbol": "circle"
         },
         "mode": "markers",
         "name": "Oceania",
         "orientation": "v",
         "showlegend": true,
         "type": "scatter",
         "x": [
          34435.367439999995,
          25185.00911
         ],
         "xaxis": "x",
         "y": [
          81.235,
          80.204
         ],
         "yaxis": "y"
        }
       ],
       "layout": {
        "legend": {
         "itemsizing": "constant",
         "title": {
          "text": "continent"
         },
         "tracegroupgap": 0
        },
        "template": {
         "data": {
          "bar": [
           {
            "error_x": {
             "color": "rgb(36,36,36)"
            },
            "error_y": {
             "color": "rgb(36,36,36)"
            },
            "marker": {
             "line": {
              "color": "white",
              "width": 0.5
             },
             "pattern": {
              "fillmode": "overlay",
              "size": 10,
              "solidity": 0.2
             }
            },
            "type": "bar"
           }
          ],
          "barpolar": [
           {
            "marker": {
             "line": {
              "color": "white",
              "width": 0.5
             },
             "pattern": {
              "fillmode": "overlay",
              "size": 10,
              "solidity": 0.2
             }
            },
            "type": "barpolar"
           }
          ],
          "carpet": [
           {
            "aaxis": {
             "endlinecolor": "rgb(36,36,36)",
             "gridcolor": "white",
             "linecolor": "white",
             "minorgridcolor": "white",
             "startlinecolor": "rgb(36,36,36)"
            },
            "baxis": {
             "endlinecolor": "rgb(36,36,36)",
             "gridcolor": "white",
             "linecolor": "white",
             "minorgridcolor": "white",
             "startlinecolor": "rgb(36,36,36)"
            },
            "type": "carpet"
           }
          ],
          "choropleth": [
           {
            "colorbar": {
             "outlinewidth": 1,
             "tickcolor": "rgb(36,36,36)",
             "ticks": "outside"
            },
            "type": "choropleth"
           }
          ],
          "contour": [
           {
            "colorbar": {
             "outlinewidth": 1,
             "tickcolor": "rgb(36,36,36)",
             "ticks": "outside"
            },
            "colorscale": [
             [
              0,
              "#440154"
             ],
             [
              0.1111111111111111,
              "#482878"
             ],
             [
              0.2222222222222222,
              "#3e4989"
             ],
             [
              0.3333333333333333,
              "#31688e"
             ],
             [
              0.4444444444444444,
              "#26828e"
             ],
             [
              0.5555555555555556,
              "#1f9e89"
             ],
             [
              0.6666666666666666,
              "#35b779"
             ],
             [
              0.7777777777777778,
              "#6ece58"
             ],
             [
              0.8888888888888888,
              "#b5de2b"
             ],
             [
              1,
              "#fde725"
             ]
            ],
            "type": "contour"
           }
          ],
          "contourcarpet": [
           {
            "colorbar": {
             "outlinewidth": 1,
             "tickcolor": "rgb(36,36,36)",
             "ticks": "outside"
            },
            "type": "contourcarpet"
           }
          ],
          "heatmap": [
           {
            "colorbar": {
             "outlinewidth": 1,
             "tickcolor": "rgb(36,36,36)",
             "ticks": "outside"
            },
            "colorscale": [
             [
              0,
              "#440154"
             ],
             [
              0.1111111111111111,
              "#482878"
             ],
             [
              0.2222222222222222,
              "#3e4989"
             ],
             [
              0.3333333333333333,
              "#31688e"
             ],
             [
              0.4444444444444444,
              "#26828e"
             ],
             [
              0.5555555555555556,
              "#1f9e89"
             ],
             [
              0.6666666666666666,
              "#35b779"
             ],
             [
              0.7777777777777778,
              "#6ece58"
             ],
             [
              0.8888888888888888,
              "#b5de2b"
             ],
             [
              1,
              "#fde725"
             ]
            ],
            "type": "heatmap"
           }
          ],
          "heatmapgl": [
           {
            "colorbar": {
             "outlinewidth": 1,
             "tickcolor": "rgb(36,36,36)",
             "ticks": "outside"
            },
            "colorscale": [
             [
              0,
              "#440154"
             ],
             [
              0.1111111111111111,
              "#482878"
             ],
             [
              0.2222222222222222,
              "#3e4989"
             ],
             [
              0.3333333333333333,
              "#31688e"
             ],
             [
              0.4444444444444444,
              "#26828e"
             ],
             [
              0.5555555555555556,
              "#1f9e89"
             ],
             [
              0.6666666666666666,
              "#35b779"
             ],
             [
              0.7777777777777778,
              "#6ece58"
             ],
             [
              0.8888888888888888,
              "#b5de2b"
             ],
             [
              1,
              "#fde725"
             ]
            ],
            "type": "heatmapgl"
           }
          ],
          "histogram": [
           {
            "marker": {
             "line": {
              "color": "white",
              "width": 0.6
             }
            },
            "type": "histogram"
           }
          ],
          "histogram2d": [
           {
            "colorbar": {
             "outlinewidth": 1,
             "tickcolor": "rgb(36,36,36)",
             "ticks": "outside"
            },
            "colorscale": [
             [
              0,
              "#440154"
             ],
             [
              0.1111111111111111,
              "#482878"
             ],
             [
              0.2222222222222222,
              "#3e4989"
             ],
             [
              0.3333333333333333,
              "#31688e"
             ],
             [
              0.4444444444444444,
              "#26828e"
             ],
             [
              0.5555555555555556,
              "#1f9e89"
             ],
             [
              0.6666666666666666,
              "#35b779"
             ],
             [
              0.7777777777777778,
              "#6ece58"
             ],
             [
              0.8888888888888888,
              "#b5de2b"
             ],
             [
              1,
              "#fde725"
             ]
            ],
            "type": "histogram2d"
           }
          ],
          "histogram2dcontour": [
           {
            "colorbar": {
             "outlinewidth": 1,
             "tickcolor": "rgb(36,36,36)",
             "ticks": "outside"
            },
            "colorscale": [
             [
              0,
              "#440154"
             ],
             [
              0.1111111111111111,
              "#482878"
             ],
             [
              0.2222222222222222,
              "#3e4989"
             ],
             [
              0.3333333333333333,
              "#31688e"
             ],
             [
              0.4444444444444444,
              "#26828e"
             ],
             [
              0.5555555555555556,
              "#1f9e89"
             ],
             [
              0.6666666666666666,
              "#35b779"
             ],
             [
              0.7777777777777778,
              "#6ece58"
             ],
             [
              0.8888888888888888,
              "#b5de2b"
             ],
             [
              1,
              "#fde725"
             ]
            ],
            "type": "histogram2dcontour"
           }
          ],
          "mesh3d": [
           {
            "colorbar": {
             "outlinewidth": 1,
             "tickcolor": "rgb(36,36,36)",
             "ticks": "outside"
            },
            "type": "mesh3d"
           }
          ],
          "parcoords": [
           {
            "line": {
             "colorbar": {
              "outlinewidth": 1,
              "tickcolor": "rgb(36,36,36)",
              "ticks": "outside"
             }
            },
            "type": "parcoords"
           }
          ],
          "pie": [
           {
            "automargin": true,
            "type": "pie"
           }
          ],
          "scatter": [
           {
            "fillpattern": {
             "fillmode": "overlay",
             "size": 10,
             "solidity": 0.2
            },
            "type": "scatter"
           }
          ],
          "scatter3d": [
           {
            "line": {
             "colorbar": {
              "outlinewidth": 1,
              "tickcolor": "rgb(36,36,36)",
              "ticks": "outside"
             }
            },
            "marker": {
             "colorbar": {
              "outlinewidth": 1,
              "tickcolor": "rgb(36,36,36)",
              "ticks": "outside"
             }
            },
            "type": "scatter3d"
           }
          ],
          "scattercarpet": [
           {
            "marker": {
             "colorbar": {
              "outlinewidth": 1,
              "tickcolor": "rgb(36,36,36)",
              "ticks": "outside"
             }
            },
            "type": "scattercarpet"
           }
          ],
          "scattergeo": [
           {
            "marker": {
             "colorbar": {
              "outlinewidth": 1,
              "tickcolor": "rgb(36,36,36)",
              "ticks": "outside"
             }
            },
            "type": "scattergeo"
           }
          ],
          "scattergl": [
           {
            "marker": {
             "colorbar": {
              "outlinewidth": 1,
              "tickcolor": "rgb(36,36,36)",
              "ticks": "outside"
             }
            },
            "type": "scattergl"
           }
          ],
          "scattermapbox": [
           {
            "marker": {
             "colorbar": {
              "outlinewidth": 1,
              "tickcolor": "rgb(36,36,36)",
              "ticks": "outside"
             }
            },
            "type": "scattermapbox"
           }
          ],
          "scatterpolar": [
           {
            "marker": {
             "colorbar": {
              "outlinewidth": 1,
              "tickcolor": "rgb(36,36,36)",
              "ticks": "outside"
             }
            },
            "type": "scatterpolar"
           }
          ],
          "scatterpolargl": [
           {
            "marker": {
             "colorbar": {
              "outlinewidth": 1,
              "tickcolor": "rgb(36,36,36)",
              "ticks": "outside"
             }
            },
            "type": "scatterpolargl"
           }
          ],
          "scatterternary": [
           {
            "marker": {
             "colorbar": {
              "outlinewidth": 1,
              "tickcolor": "rgb(36,36,36)",
              "ticks": "outside"
             }
            },
            "type": "scatterternary"
           }
          ],
          "surface": [
           {
            "colorbar": {
             "outlinewidth": 1,
             "tickcolor": "rgb(36,36,36)",
             "ticks": "outside"
            },
            "colorscale": [
             [
              0,
              "#440154"
             ],
             [
              0.1111111111111111,
              "#482878"
             ],
             [
              0.2222222222222222,
              "#3e4989"
             ],
             [
              0.3333333333333333,
              "#31688e"
             ],
             [
              0.4444444444444444,
              "#26828e"
             ],
             [
              0.5555555555555556,
              "#1f9e89"
             ],
             [
              0.6666666666666666,
              "#35b779"
             ],
             [
              0.7777777777777778,
              "#6ece58"
             ],
             [
              0.8888888888888888,
              "#b5de2b"
             ],
             [
              1,
              "#fde725"
             ]
            ],
            "type": "surface"
           }
          ],
          "table": [
           {
            "cells": {
             "fill": {
              "color": "rgb(237,237,237)"
             },
             "line": {
              "color": "white"
             }
            },
            "header": {
             "fill": {
              "color": "rgb(217,217,217)"
             },
             "line": {
              "color": "white"
             }
            },
            "type": "table"
           }
          ]
         },
         "layout": {
          "annotationdefaults": {
           "arrowhead": 0,
           "arrowwidth": 1
          },
          "autotypenumbers": "strict",
          "coloraxis": {
           "colorbar": {
            "outlinewidth": 1,
            "tickcolor": "rgb(36,36,36)",
            "ticks": "outside"
           }
          },
          "colorscale": {
           "diverging": [
            [
             0,
             "rgb(103,0,31)"
            ],
            [
             0.1,
             "rgb(178,24,43)"
            ],
            [
             0.2,
             "rgb(214,96,77)"
            ],
            [
             0.3,
             "rgb(244,165,130)"
            ],
            [
             0.4,
             "rgb(253,219,199)"
            ],
            [
             0.5,
             "rgb(247,247,247)"
            ],
            [
             0.6,
             "rgb(209,229,240)"
            ],
            [
             0.7,
             "rgb(146,197,222)"
            ],
            [
             0.8,
             "rgb(67,147,195)"
            ],
            [
             0.9,
             "rgb(33,102,172)"
            ],
            [
             1,
             "rgb(5,48,97)"
            ]
           ],
           "sequential": [
            [
             0,
             "#440154"
            ],
            [
             0.1111111111111111,
             "#482878"
            ],
            [
             0.2222222222222222,
             "#3e4989"
            ],
            [
             0.3333333333333333,
             "#31688e"
            ],
            [
             0.4444444444444444,
             "#26828e"
            ],
            [
             0.5555555555555556,
             "#1f9e89"
            ],
            [
             0.6666666666666666,
             "#35b779"
            ],
            [
             0.7777777777777778,
             "#6ece58"
            ],
            [
             0.8888888888888888,
             "#b5de2b"
            ],
            [
             1,
             "#fde725"
            ]
           ],
           "sequentialminus": [
            [
             0,
             "#440154"
            ],
            [
             0.1111111111111111,
             "#482878"
            ],
            [
             0.2222222222222222,
             "#3e4989"
            ],
            [
             0.3333333333333333,
             "#31688e"
            ],
            [
             0.4444444444444444,
             "#26828e"
            ],
            [
             0.5555555555555556,
             "#1f9e89"
            ],
            [
             0.6666666666666666,
             "#35b779"
            ],
            [
             0.7777777777777778,
             "#6ece58"
            ],
            [
             0.8888888888888888,
             "#b5de2b"
            ],
            [
             1,
             "#fde725"
            ]
           ]
          },
          "colorway": [
           "#1F77B4",
           "#FF7F0E",
           "#2CA02C",
           "#D62728",
           "#9467BD",
           "#8C564B",
           "#E377C2",
           "#7F7F7F",
           "#BCBD22",
           "#17BECF"
          ],
          "font": {
           "color": "rgb(36,36,36)"
          },
          "geo": {
           "bgcolor": "white",
           "lakecolor": "white",
           "landcolor": "white",
           "showlakes": true,
           "showland": true,
           "subunitcolor": "white"
          },
          "hoverlabel": {
           "align": "left"
          },
          "hovermode": "closest",
          "mapbox": {
           "style": "light"
          },
          "paper_bgcolor": "white",
          "plot_bgcolor": "white",
          "polar": {
           "angularaxis": {
            "gridcolor": "rgb(232,232,232)",
            "linecolor": "rgb(36,36,36)",
            "showgrid": false,
            "showline": true,
            "ticks": "outside"
           },
           "bgcolor": "white",
           "radialaxis": {
            "gridcolor": "rgb(232,232,232)",
            "linecolor": "rgb(36,36,36)",
            "showgrid": false,
            "showline": true,
            "ticks": "outside"
           }
          },
          "scene": {
           "xaxis": {
            "backgroundcolor": "white",
            "gridcolor": "rgb(232,232,232)",
            "gridwidth": 2,
            "linecolor": "rgb(36,36,36)",
            "showbackground": true,
            "showgrid": false,
            "showline": true,
            "ticks": "outside",
            "zeroline": false,
            "zerolinecolor": "rgb(36,36,36)"
           },
           "yaxis": {
            "backgroundcolor": "white",
            "gridcolor": "rgb(232,232,232)",
            "gridwidth": 2,
            "linecolor": "rgb(36,36,36)",
            "showbackground": true,
            "showgrid": false,
            "showline": true,
            "ticks": "outside",
            "zeroline": false,
            "zerolinecolor": "rgb(36,36,36)"
           },
           "zaxis": {
            "backgroundcolor": "white",
            "gridcolor": "rgb(232,232,232)",
            "gridwidth": 2,
            "linecolor": "rgb(36,36,36)",
            "showbackground": true,
            "showgrid": false,
            "showline": true,
            "ticks": "outside",
            "zeroline": false,
            "zerolinecolor": "rgb(36,36,36)"
           }
          },
          "shapedefaults": {
           "fillcolor": "black",
           "line": {
            "width": 0
           },
           "opacity": 0.3
          },
          "ternary": {
           "aaxis": {
            "gridcolor": "rgb(232,232,232)",
            "linecolor": "rgb(36,36,36)",
            "showgrid": false,
            "showline": true,
            "ticks": "outside"
           },
           "baxis": {
            "gridcolor": "rgb(232,232,232)",
            "linecolor": "rgb(36,36,36)",
            "showgrid": false,
            "showline": true,
            "ticks": "outside"
           },
           "bgcolor": "white",
           "caxis": {
            "gridcolor": "rgb(232,232,232)",
            "linecolor": "rgb(36,36,36)",
            "showgrid": false,
            "showline": true,
            "ticks": "outside"
           }
          },
          "title": {
           "x": 0.05
          },
          "xaxis": {
           "automargin": true,
           "gridcolor": "rgb(232,232,232)",
           "linecolor": "rgb(36,36,36)",
           "showgrid": false,
           "showline": true,
           "ticks": "outside",
           "title": {
            "standoff": 15
           },
           "zeroline": false,
           "zerolinecolor": "rgb(36,36,36)"
          },
          "yaxis": {
           "automargin": true,
           "gridcolor": "rgb(232,232,232)",
           "linecolor": "rgb(36,36,36)",
           "showgrid": false,
           "showline": true,
           "ticks": "outside",
           "title": {
            "standoff": 15
           },
           "zeroline": false,
           "zerolinecolor": "rgb(36,36,36)"
          }
         }
        },
        "title": {
         "text": "Gapminder 2007: 'simple_white' theme"
        },
        "xaxis": {
         "anchor": "y",
         "domain": [
          0,
          1
         ],
         "title": {
          "text": "gdpPercap"
         },
         "type": "log"
        },
        "yaxis": {
         "anchor": "x",
         "domain": [
          0,
          1
         ],
         "title": {
          "text": "lifeExp"
         }
        }
       }
      }
     },
     "metadata": {},
     "output_type": "display_data"
    },
    {
     "data": {
      "application/vnd.plotly.v1+json": {
       "config": {
        "plotlyServerURL": "https://plotly.com"
       },
       "data": [
        {
         "hovertemplate": "continent=Asia<br>gdpPercap=%{x}<br>lifeExp=%{y}<br>pop=%{marker.size}<extra></extra>",
         "legendgroup": "Asia",
         "marker": {
          "color": "#1F77B4",
          "size": [
           31889923,
           708573,
           150448339,
           14131858,
           1318683096,
           6980412,
           1110396331,
           223547000,
           69453570,
           27499638,
           6426679,
           127467972,
           6053193,
           23301725,
           49044790,
           2505559,
           3921278,
           24821286,
           2874127,
           47761980,
           28901790,
           3204897,
           169270617,
           91077287,
           27601038,
           4553009,
           20378239,
           19314747,
           23174294,
           65068149,
           85262356,
           4018332,
           22211743
          ],
          "sizemode": "area",
          "sizeref": 366300.86,
          "symbol": "circle"
         },
         "mode": "markers",
         "name": "Asia",
         "orientation": "v",
         "showlegend": true,
         "type": "scatter",
         "x": [
          974.5803384,
          29796.04834,
          1391.253792,
          1713.778686,
          4959.114854,
          39724.97867,
          2452.210407,
          3540.651564,
          11605.71449,
          4471.061906,
          25523.2771,
          31656.06806,
          4519.461171,
          1593.06548,
          23348.139730000006,
          47306.98978,
          10461.05868,
          12451.6558,
          3095.7722710000007,
          944,
          1091.359778,
          22316.19287,
          2605.94758,
          3190.481016,
          21654.83194,
          47143.17964,
          3970.095407,
          4184.548089,
          28718.27684,
          7458.396326999998,
          2441.576404,
          3025.349798,
          2280.769906
         ],
         "xaxis": "x",
         "y": [
          43.828,
          75.635,
          64.062,
          59.723,
          72.961,
          82.208,
          64.69800000000001,
          70.65,
          70.964,
          59.545,
          80.745,
          82.603,
          72.535,
          67.297,
          78.623,
          77.58800000000002,
          71.993,
          74.241,
          66.803,
          62.069,
          63.785,
          75.64,
          65.483,
          71.688,
          72.777,
          79.972,
          72.396,
          74.143,
          78.4,
          70.616,
          74.249,
          73.422,
          62.698
         ],
         "yaxis": "y"
        },
        {
         "hovertemplate": "continent=Europe<br>gdpPercap=%{x}<br>lifeExp=%{y}<br>pop=%{marker.size}<extra></extra>",
         "legendgroup": "Europe",
         "marker": {
          "color": "#FF7F0E",
          "size": [
           3600523,
           8199783,
           10392226,
           4552198,
           7322858,
           4493312,
           10228744,
           5468120,
           5238460,
           61083916,
           82400996,
           10706290,
           9956108,
           301931,
           4109086,
           58147733,
           684736,
           16570613,
           4627926,
           38518241,
           10642836,
           22276056,
           10150265,
           5447502,
           2009245,
           40448191,
           9031088,
           7554661,
           71158647,
           60776238
          ],
          "sizemode": "area",
          "sizeref": 366300.86,
          "symbol": "circle"
         },
         "mode": "markers",
         "name": "Europe",
         "orientation": "v",
         "showlegend": true,
         "type": "scatter",
         "x": [
          5937.029525999998,
          36126.4927,
          33692.60508,
          7446.298803,
          10680.79282,
          14619.222719999998,
          22833.30851,
          35278.41874,
          33207.0844,
          30470.0167,
          32170.37442,
          27538.41188,
          18008.94444,
          36180.78919,
          40675.99635,
          28569.7197,
          9253.896111,
          36797.93332,
          49357.19017,
          15389.924680000002,
          20509.64777,
          10808.47561,
          9786.534714,
          18678.31435,
          25768.25759,
          28821.0637,
          33859.74835,
          37506.41907,
          8458.276384,
          33203.26128
         ],
         "xaxis": "x",
         "y": [
          76.423,
          79.829,
          79.441,
          74.852,
          73.005,
          75.748,
          76.486,
          78.332,
          79.313,
          80.657,
          79.406,
          79.483,
          73.33800000000002,
          81.757,
          78.885,
          80.546,
          74.543,
          79.762,
          80.196,
          75.563,
          78.098,
          72.476,
          74.002,
          74.663,
          77.926,
          80.941,
          80.884,
          81.70100000000002,
          71.777,
          79.425
         ],
         "yaxis": "y"
        },
        {
         "hovertemplate": "continent=Africa<br>gdpPercap=%{x}<br>lifeExp=%{y}<br>pop=%{marker.size}<extra></extra>",
         "legendgroup": "Africa",
         "marker": {
          "color": "#2CA02C",
          "size": [
           33333216,
           12420476,
           8078314,
           1639131,
           14326203,
           8390505,
           17696293,
           4369038,
           10238807,
           710960,
           64606759,
           3800610,
           18013409,
           496374,
           80264543,
           551201,
           4906585,
           76511887,
           1454867,
           1688359,
           22873338,
           9947814,
           1472041,
           35610177,
           2012649,
           3193942,
           6036914,
           19167654,
           13327079,
           12031795,
           3270065,
           1250882,
           33757175,
           19951656,
           2055080,
           12894865,
           135031164,
           798094,
           8860588,
           199579,
           12267493,
           6144562,
           9118773,
           43997828,
           42292929,
           1133066,
           38139640,
           5701579,
           10276158,
           29170398,
           11746035,
           12311143
          ],
          "sizemode": "area",
          "sizeref": 366300.86,
          "symbol": "circle"
         },
         "mode": "markers",
         "name": "Africa",
         "orientation": "v",
         "showlegend": true,
         "type": "scatter",
         "x": [
          6223.367465,
          4797.231267,
          1441.284873,
          12569.85177,
          1217.032994,
          430.0706916,
          2042.09524,
          706.016537,
          1704.063724,
          986.1478792,
          277.5518587,
          3632.557798,
          1544.750112,
          2082.4815670000007,
          5581.180998,
          12154.08975,
          641.3695236000002,
          690.8055759,
          13206.48452,
          752.7497265,
          1327.60891,
          942.6542111,
          579.2317429999998,
          1463.249282,
          1569.331442,
          414.5073415,
          12057.49928,
          1044.770126,
          759.3499101,
          1042.581557,
          1803.151496,
          10956.99112,
          3820.17523,
          823.6856205,
          4811.060429,
          619.6768923999998,
          2013.977305,
          7670.122558,
          863.0884639000002,
          1598.435089,
          1712.472136,
          862.5407561000002,
          926.1410683,
          9269.657808,
          2602.394995,
          4513.480643,
          1107.482182,
          882.9699437999999,
          7092.923025,
          1056.380121,
          1271.211593,
          469.70929810000007
         ],
         "xaxis": "x",
         "y": [
          72.301,
          42.731,
          56.728,
          50.728,
          52.295,
          49.58,
          50.43,
          44.74100000000001,
          50.651,
          65.152,
          46.462,
          55.322,
          48.328,
          54.791,
          71.33800000000002,
          51.57899999999999,
          58.04,
          52.947,
          56.735,
          59.448,
          60.022,
          56.007,
          46.38800000000001,
          54.11,
          42.592,
          45.678,
          73.952,
          59.44300000000001,
          48.303,
          54.467,
          64.164,
          72.801,
          71.164,
          42.082,
          52.90600000000001,
          56.867,
          46.859,
          76.442,
          46.242,
          65.528,
          63.062,
          42.56800000000001,
          48.159,
          49.339,
          58.556,
          39.613,
          52.517,
          58.42,
          73.923,
          51.542,
          42.38399999999999,
          43.487
         ],
         "yaxis": "y"
        },
        {
         "hovertemplate": "continent=Americas<br>gdpPercap=%{x}<br>lifeExp=%{y}<br>pop=%{marker.size}<extra></extra>",
         "legendgroup": "Americas",
         "marker": {
          "color": "#D62728",
          "size": [
           40301927,
           9119152,
           190010647,
           33390141,
           16284741,
           44227550,
           4133884,
           11416987,
           9319622,
           13755680,
           6939688,
           12572928,
           8502814,
           7483763,
           2780132,
           108700891,
           5675356,
           3242173,
           6667147,
           28674757,
           3942491,
           1056608,
           301139947,
           3447496,
           26084662
          ],
          "sizemode": "area",
          "sizeref": 366300.86,
          "symbol": "circle"
         },
         "mode": "markers",
         "name": "Americas",
         "orientation": "v",
         "showlegend": true,
         "type": "scatter",
         "x": [
          12779.37964,
          3822.137084,
          9065.800825,
          36319.23501,
          13171.63885,
          7006.580419,
          9645.06142,
          8948.102923,
          6025.3747520000015,
          6873.262326000001,
          5728.353514,
          5186.050003,
          1201.637154,
          3548.3308460000007,
          7320.8802620000015,
          11977.57496,
          2749.320965,
          9809.185636,
          4172.838464,
          7408.905561,
          19328.70901,
          18008.50924,
          42951.65309,
          10611.46299,
          11415.80569
         ],
         "xaxis": "x",
         "y": [
          75.32,
          65.554,
          72.39,
          80.653,
          78.553,
          72.889,
          78.782,
          78.273,
          72.235,
          74.994,
          71.878,
          70.259,
          60.916,
          70.19800000000001,
          72.567,
          76.195,
          72.899,
          75.53699999999998,
          71.752,
          71.421,
          78.74600000000002,
          69.819,
          78.242,
          76.384,
          73.747
         ],
         "yaxis": "y"
        },
        {
         "hovertemplate": "continent=Oceania<br>gdpPercap=%{x}<br>lifeExp=%{y}<br>pop=%{marker.size}<extra></extra>",
         "legendgroup": "Oceania",
         "marker": {
          "color": "#9467BD",
          "size": [
           20434176,
           4115771
          ],
          "sizemode": "area",
          "sizeref": 366300.86,
          "symbol": "circle"
         },
         "mode": "markers",
         "name": "Oceania",
         "orientation": "v",
         "showlegend": true,
         "type": "scatter",
         "x": [
          34435.367439999995,
          25185.00911
         ],
         "xaxis": "x",
         "y": [
          81.235,
          80.204
         ],
         "yaxis": "y"
        }
       ],
       "layout": {
        "legend": {
         "itemsizing": "constant",
         "title": {
          "text": "continent"
         },
         "tracegroupgap": 0
        },
        "template": {
         "data": {
          "scatter": [
           {
            "type": "scatter"
           }
          ]
         }
        },
        "title": {
         "text": "Gapminder 2007: 'none' theme"
        },
        "xaxis": {
         "anchor": "y",
         "domain": [
          0,
          1
         ],
         "title": {
          "text": "gdpPercap"
         },
         "type": "log"
        },
        "yaxis": {
         "anchor": "x",
         "domain": [
          0,
          1
         ],
         "title": {
          "text": "lifeExp"
         }
        }
       }
      }
     },
     "metadata": {},
     "output_type": "display_data"
    }
   ],
   "source": [
    "# 6种样式\n",
    "df = px.data.gapminder()\n",
    "df_2007 = df.query(\"year==2007\")\n",
    "\n",
    "for template in [\"plotly\", \"plotly_white\", \"plotly_dark\", \"ggplot2\", \"seaborn\", \"simple_white\", \"none\"]:\n",
    "    fig = px.scatter(df_2007,\n",
    "                     x=\"gdpPercap\", y=\"lifeExp\", size=\"pop\", color=\"continent\",\n",
    "                     log_x=True, size_max=60,\n",
    "                     template=template, title=\"Gapminder 2007: '%s' theme\" % template)\n",
    "    fig.show()"
   ]
  }
 ],
 "metadata": {
  "kernelspec": {
   "display_name": "Python 3",
   "language": "python",
   "name": "python3"
  },
  "language_info": {
   "codemirror_mode": {
    "name": "ipython",
    "version": 3
   },
   "file_extension": ".py",
   "mimetype": "text/x-python",
   "name": "python",
   "nbconvert_exporter": "python",
   "pygments_lexer": "ipython3",
   "version": "3.10.8"
  },
  "orig_nbformat": 4,
  "vscode": {
   "interpreter": {
    "hash": "81c0824a775fc71e631f3224d9d67af9a136be22bf24be690348df1749a7a398"
   }
  }
 },
 "nbformat": 4,
 "nbformat_minor": 2
}
